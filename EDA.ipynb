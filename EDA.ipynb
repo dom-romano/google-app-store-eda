{
 "cells": [
  {
   "cell_type": "markdown",
   "metadata": {},
   "source": [
    "# Google Play Store App Downloads Exploratory Data Analysis\n",
    "\n",
    "This dataset was retrieved from Kaggle (https://www.kaggle.com/datasets/gauthamp10/google-playstore-apps). It contains information about downloads, ratings, and other application information about roughly 2.3 million applications from the Google Play Store as of June 2021. This data will be useful in this analysis for app developers to see how certain aspects of their app will affect downloads and ratings. "
   ]
  },
  {
   "cell_type": "markdown",
   "metadata": {},
   "source": [
    "## Data Preparation and Cleaning"
   ]
  },
  {
   "cell_type": "markdown",
   "metadata": {},
   "source": [
    "\n",
    "1. Load data frame using Pandas<br>\n",
    "2. Explore the data a little, find out more information about what we're working with<br>\n",
    "3. Clean up any missing or incorrect values<br>"
   ]
  },
  {
   "cell_type": "code",
   "execution_count": 172,
   "metadata": {},
   "outputs": [],
   "source": [
    "import pandas as pd\n",
    "import matplotlib.pyplot as plt"
   ]
  },
  {
   "cell_type": "code",
   "execution_count": 173,
   "metadata": {},
   "outputs": [],
   "source": [
    "data_filename = 'Google-Playstore.csv'\n",
    "df = pd.read_csv(data_filename)"
   ]
  },
  {
   "cell_type": "code",
   "execution_count": 174,
   "metadata": {},
   "outputs": [
    {
     "data": {
      "text/html": [
       "<div>\n",
       "<style scoped>\n",
       "    .dataframe tbody tr th:only-of-type {\n",
       "        vertical-align: middle;\n",
       "    }\n",
       "\n",
       "    .dataframe tbody tr th {\n",
       "        vertical-align: top;\n",
       "    }\n",
       "\n",
       "    .dataframe thead th {\n",
       "        text-align: right;\n",
       "    }\n",
       "</style>\n",
       "<table border=\"1\" class=\"dataframe\">\n",
       "  <thead>\n",
       "    <tr style=\"text-align: right;\">\n",
       "      <th></th>\n",
       "      <th>App Name</th>\n",
       "      <th>App Id</th>\n",
       "      <th>Category</th>\n",
       "      <th>Rating</th>\n",
       "      <th>Rating Count</th>\n",
       "      <th>Installs</th>\n",
       "      <th>Minimum Installs</th>\n",
       "      <th>Maximum Installs</th>\n",
       "      <th>Free</th>\n",
       "      <th>Price</th>\n",
       "      <th>...</th>\n",
       "      <th>Developer Website</th>\n",
       "      <th>Developer Email</th>\n",
       "      <th>Released</th>\n",
       "      <th>Last Updated</th>\n",
       "      <th>Content Rating</th>\n",
       "      <th>Privacy Policy</th>\n",
       "      <th>Ad Supported</th>\n",
       "      <th>In App Purchases</th>\n",
       "      <th>Editors Choice</th>\n",
       "      <th>Scraped Time</th>\n",
       "    </tr>\n",
       "  </thead>\n",
       "  <tbody>\n",
       "    <tr>\n",
       "      <th>0</th>\n",
       "      <td>Gakondo</td>\n",
       "      <td>com.ishakwe.gakondo</td>\n",
       "      <td>Adventure</td>\n",
       "      <td>0.0</td>\n",
       "      <td>0.0</td>\n",
       "      <td>10+</td>\n",
       "      <td>10.0</td>\n",
       "      <td>15</td>\n",
       "      <td>True</td>\n",
       "      <td>0.0</td>\n",
       "      <td>...</td>\n",
       "      <td>https://beniyizibyose.tk/#/</td>\n",
       "      <td>jean21101999@gmail.com</td>\n",
       "      <td>Feb 26, 2020</td>\n",
       "      <td>Feb 26, 2020</td>\n",
       "      <td>Everyone</td>\n",
       "      <td>https://beniyizibyose.tk/projects/</td>\n",
       "      <td>False</td>\n",
       "      <td>False</td>\n",
       "      <td>False</td>\n",
       "      <td>2021-06-15 20:19:35</td>\n",
       "    </tr>\n",
       "    <tr>\n",
       "      <th>1</th>\n",
       "      <td>Ampere Battery Info</td>\n",
       "      <td>com.webserveis.batteryinfo</td>\n",
       "      <td>Tools</td>\n",
       "      <td>4.4</td>\n",
       "      <td>64.0</td>\n",
       "      <td>5,000+</td>\n",
       "      <td>5000.0</td>\n",
       "      <td>7662</td>\n",
       "      <td>True</td>\n",
       "      <td>0.0</td>\n",
       "      <td>...</td>\n",
       "      <td>https://webserveis.netlify.app/</td>\n",
       "      <td>webserveis@gmail.com</td>\n",
       "      <td>May 21, 2020</td>\n",
       "      <td>May 06, 2021</td>\n",
       "      <td>Everyone</td>\n",
       "      <td>https://dev4phones.wordpress.com/licencia-de-uso/</td>\n",
       "      <td>True</td>\n",
       "      <td>False</td>\n",
       "      <td>False</td>\n",
       "      <td>2021-06-15 20:19:35</td>\n",
       "    </tr>\n",
       "    <tr>\n",
       "      <th>2</th>\n",
       "      <td>Vibook</td>\n",
       "      <td>com.doantiepvien.crm</td>\n",
       "      <td>Productivity</td>\n",
       "      <td>0.0</td>\n",
       "      <td>0.0</td>\n",
       "      <td>50+</td>\n",
       "      <td>50.0</td>\n",
       "      <td>58</td>\n",
       "      <td>True</td>\n",
       "      <td>0.0</td>\n",
       "      <td>...</td>\n",
       "      <td>NaN</td>\n",
       "      <td>vnacrewit@gmail.com</td>\n",
       "      <td>Aug 9, 2019</td>\n",
       "      <td>Aug 19, 2019</td>\n",
       "      <td>Everyone</td>\n",
       "      <td>https://www.vietnamairlines.com/vn/en/terms-an...</td>\n",
       "      <td>False</td>\n",
       "      <td>False</td>\n",
       "      <td>False</td>\n",
       "      <td>2021-06-15 20:19:35</td>\n",
       "    </tr>\n",
       "    <tr>\n",
       "      <th>3</th>\n",
       "      <td>Smart City Trichy Public Service Vehicles 17UC...</td>\n",
       "      <td>cst.stJoseph.ug17ucs548</td>\n",
       "      <td>Communication</td>\n",
       "      <td>5.0</td>\n",
       "      <td>5.0</td>\n",
       "      <td>10+</td>\n",
       "      <td>10.0</td>\n",
       "      <td>19</td>\n",
       "      <td>True</td>\n",
       "      <td>0.0</td>\n",
       "      <td>...</td>\n",
       "      <td>http://www.climatesmarttech.com/</td>\n",
       "      <td>climatesmarttech2@gmail.com</td>\n",
       "      <td>Sep 10, 2018</td>\n",
       "      <td>Oct 13, 2018</td>\n",
       "      <td>Everyone</td>\n",
       "      <td>NaN</td>\n",
       "      <td>True</td>\n",
       "      <td>False</td>\n",
       "      <td>False</td>\n",
       "      <td>2021-06-15 20:19:35</td>\n",
       "    </tr>\n",
       "    <tr>\n",
       "      <th>4</th>\n",
       "      <td>GROW.me</td>\n",
       "      <td>com.horodyski.grower</td>\n",
       "      <td>Tools</td>\n",
       "      <td>0.0</td>\n",
       "      <td>0.0</td>\n",
       "      <td>100+</td>\n",
       "      <td>100.0</td>\n",
       "      <td>478</td>\n",
       "      <td>True</td>\n",
       "      <td>0.0</td>\n",
       "      <td>...</td>\n",
       "      <td>http://www.horodyski.com.pl</td>\n",
       "      <td>rmilekhorodyski@gmail.com</td>\n",
       "      <td>Feb 21, 2020</td>\n",
       "      <td>Nov 12, 2018</td>\n",
       "      <td>Everyone</td>\n",
       "      <td>http://www.horodyski.com.pl</td>\n",
       "      <td>False</td>\n",
       "      <td>False</td>\n",
       "      <td>False</td>\n",
       "      <td>2021-06-15 20:19:35</td>\n",
       "    </tr>\n",
       "    <tr>\n",
       "      <th>...</th>\n",
       "      <td>...</td>\n",
       "      <td>...</td>\n",
       "      <td>...</td>\n",
       "      <td>...</td>\n",
       "      <td>...</td>\n",
       "      <td>...</td>\n",
       "      <td>...</td>\n",
       "      <td>...</td>\n",
       "      <td>...</td>\n",
       "      <td>...</td>\n",
       "      <td>...</td>\n",
       "      <td>...</td>\n",
       "      <td>...</td>\n",
       "      <td>...</td>\n",
       "      <td>...</td>\n",
       "      <td>...</td>\n",
       "      <td>...</td>\n",
       "      <td>...</td>\n",
       "      <td>...</td>\n",
       "      <td>...</td>\n",
       "      <td>...</td>\n",
       "    </tr>\n",
       "    <tr>\n",
       "      <th>2312939</th>\n",
       "      <td>大俠客—熱血歸來</td>\n",
       "      <td>com.rxsj.ssjj</td>\n",
       "      <td>Role Playing</td>\n",
       "      <td>4.3</td>\n",
       "      <td>16775.0</td>\n",
       "      <td>100,000+</td>\n",
       "      <td>100000.0</td>\n",
       "      <td>337109</td>\n",
       "      <td>True</td>\n",
       "      <td>0.0</td>\n",
       "      <td>...</td>\n",
       "      <td>http://www.4399sy.com.hk/</td>\n",
       "      <td>ssjjcomhk@gmail.com</td>\n",
       "      <td>NaN</td>\n",
       "      <td>Jun 01, 2021</td>\n",
       "      <td>Teen</td>\n",
       "      <td>http://a.4399sy.com.hk/user/aggreement</td>\n",
       "      <td>False</td>\n",
       "      <td>False</td>\n",
       "      <td>False</td>\n",
       "      <td>2021-06-16 12:59:18</td>\n",
       "    </tr>\n",
       "    <tr>\n",
       "      <th>2312940</th>\n",
       "      <td>ORU Online</td>\n",
       "      <td>com.threedream.oruonline</td>\n",
       "      <td>Education</td>\n",
       "      <td>0.0</td>\n",
       "      <td>0.0</td>\n",
       "      <td>100+</td>\n",
       "      <td>100.0</td>\n",
       "      <td>430</td>\n",
       "      <td>True</td>\n",
       "      <td>0.0</td>\n",
       "      <td>...</td>\n",
       "      <td>http://www.oru.edu/</td>\n",
       "      <td>3DreamDeveloper@gmail.com</td>\n",
       "      <td>Jan 17, 2018</td>\n",
       "      <td>Feb 02, 2018</td>\n",
       "      <td>Everyone</td>\n",
       "      <td>http://www.oru.edu/about-oru/privacy-policy.php</td>\n",
       "      <td>False</td>\n",
       "      <td>False</td>\n",
       "      <td>False</td>\n",
       "      <td>2021-06-16 12:59:19</td>\n",
       "    </tr>\n",
       "    <tr>\n",
       "      <th>2312941</th>\n",
       "      <td>Data Structure</td>\n",
       "      <td>datastructure.appoworld.datastucture</td>\n",
       "      <td>Education</td>\n",
       "      <td>0.0</td>\n",
       "      <td>0.0</td>\n",
       "      <td>100+</td>\n",
       "      <td>100.0</td>\n",
       "      <td>202</td>\n",
       "      <td>True</td>\n",
       "      <td>0.0</td>\n",
       "      <td>...</td>\n",
       "      <td>NaN</td>\n",
       "      <td>appoworld.official@gmail.com</td>\n",
       "      <td>Aug 19, 2018</td>\n",
       "      <td>Aug 19, 2018</td>\n",
       "      <td>Everyone</td>\n",
       "      <td>https://appoworld.000webhostapp.com/datastruct...</td>\n",
       "      <td>False</td>\n",
       "      <td>False</td>\n",
       "      <td>False</td>\n",
       "      <td>2021-06-16 12:59:19</td>\n",
       "    </tr>\n",
       "    <tr>\n",
       "      <th>2312942</th>\n",
       "      <td>Devi Suktam</td>\n",
       "      <td>ishan.devi.suktam</td>\n",
       "      <td>Music &amp; Audio</td>\n",
       "      <td>3.5</td>\n",
       "      <td>8.0</td>\n",
       "      <td>1,000+</td>\n",
       "      <td>1000.0</td>\n",
       "      <td>2635</td>\n",
       "      <td>True</td>\n",
       "      <td>0.0</td>\n",
       "      <td>...</td>\n",
       "      <td>https://a70f78905.app-ads-txt.com</td>\n",
       "      <td>ruchisono@gmail.com</td>\n",
       "      <td>Aug 1, 2016</td>\n",
       "      <td>May 05, 2021</td>\n",
       "      <td>Everyone</td>\n",
       "      <td>https://docs.google.com/document/d/1x-9reZuLRX...</td>\n",
       "      <td>True</td>\n",
       "      <td>False</td>\n",
       "      <td>False</td>\n",
       "      <td>2021-06-16 12:59:19</td>\n",
       "    </tr>\n",
       "    <tr>\n",
       "      <th>2312943</th>\n",
       "      <td>Biliyor Musun - Sonsuz Yarış</td>\n",
       "      <td>com.yyazilim.biliyormusun</td>\n",
       "      <td>Trivia</td>\n",
       "      <td>5.0</td>\n",
       "      <td>12.0</td>\n",
       "      <td>100+</td>\n",
       "      <td>100.0</td>\n",
       "      <td>354</td>\n",
       "      <td>True</td>\n",
       "      <td>0.0</td>\n",
       "      <td>...</td>\n",
       "      <td>NaN</td>\n",
       "      <td>yyazilimdevelop@gmail.com</td>\n",
       "      <td>Aug 9, 2019</td>\n",
       "      <td>Aug 19, 2019</td>\n",
       "      <td>Everyone</td>\n",
       "      <td>https://biliyor-musun-sons.flycricket.io/priva...</td>\n",
       "      <td>True</td>\n",
       "      <td>False</td>\n",
       "      <td>False</td>\n",
       "      <td>2021-06-16 12:59:19</td>\n",
       "    </tr>\n",
       "  </tbody>\n",
       "</table>\n",
       "<p>2312944 rows × 24 columns</p>\n",
       "</div>"
      ],
      "text/plain": [
       "                                                  App Name  \\\n",
       "0                                                  Gakondo   \n",
       "1                                      Ampere Battery Info   \n",
       "2                                                   Vibook   \n",
       "3        Smart City Trichy Public Service Vehicles 17UC...   \n",
       "4                                                  GROW.me   \n",
       "...                                                    ...   \n",
       "2312939                                           大俠客—熱血歸來   \n",
       "2312940                                         ORU Online   \n",
       "2312941                                     Data Structure   \n",
       "2312942                                        Devi Suktam   \n",
       "2312943                       Biliyor Musun - Sonsuz Yarış   \n",
       "\n",
       "                                       App Id       Category  Rating  \\\n",
       "0                         com.ishakwe.gakondo      Adventure     0.0   \n",
       "1                  com.webserveis.batteryinfo          Tools     4.4   \n",
       "2                        com.doantiepvien.crm   Productivity     0.0   \n",
       "3                     cst.stJoseph.ug17ucs548  Communication     5.0   \n",
       "4                        com.horodyski.grower          Tools     0.0   \n",
       "...                                       ...            ...     ...   \n",
       "2312939                         com.rxsj.ssjj   Role Playing     4.3   \n",
       "2312940              com.threedream.oruonline      Education     0.0   \n",
       "2312941  datastructure.appoworld.datastucture      Education     0.0   \n",
       "2312942                     ishan.devi.suktam  Music & Audio     3.5   \n",
       "2312943             com.yyazilim.biliyormusun         Trivia     5.0   \n",
       "\n",
       "         Rating Count  Installs  Minimum Installs  Maximum Installs  Free  \\\n",
       "0                 0.0       10+              10.0                15  True   \n",
       "1                64.0    5,000+            5000.0              7662  True   \n",
       "2                 0.0       50+              50.0                58  True   \n",
       "3                 5.0       10+              10.0                19  True   \n",
       "4                 0.0      100+             100.0               478  True   \n",
       "...               ...       ...               ...               ...   ...   \n",
       "2312939       16775.0  100,000+          100000.0            337109  True   \n",
       "2312940           0.0      100+             100.0               430  True   \n",
       "2312941           0.0      100+             100.0               202  True   \n",
       "2312942           8.0    1,000+            1000.0              2635  True   \n",
       "2312943          12.0      100+             100.0               354  True   \n",
       "\n",
       "         Price  ...                  Developer Website  \\\n",
       "0          0.0  ...        https://beniyizibyose.tk/#/   \n",
       "1          0.0  ...    https://webserveis.netlify.app/   \n",
       "2          0.0  ...                                NaN   \n",
       "3          0.0  ...   http://www.climatesmarttech.com/   \n",
       "4          0.0  ...        http://www.horodyski.com.pl   \n",
       "...        ...  ...                                ...   \n",
       "2312939    0.0  ...          http://www.4399sy.com.hk/   \n",
       "2312940    0.0  ...                http://www.oru.edu/   \n",
       "2312941    0.0  ...                                NaN   \n",
       "2312942    0.0  ...  https://a70f78905.app-ads-txt.com   \n",
       "2312943    0.0  ...                                NaN   \n",
       "\n",
       "                      Developer Email      Released  Last Updated  \\\n",
       "0              jean21101999@gmail.com  Feb 26, 2020  Feb 26, 2020   \n",
       "1                webserveis@gmail.com  May 21, 2020  May 06, 2021   \n",
       "2                 vnacrewit@gmail.com   Aug 9, 2019  Aug 19, 2019   \n",
       "3         climatesmarttech2@gmail.com  Sep 10, 2018  Oct 13, 2018   \n",
       "4           rmilekhorodyski@gmail.com  Feb 21, 2020  Nov 12, 2018   \n",
       "...                               ...           ...           ...   \n",
       "2312939           ssjjcomhk@gmail.com           NaN  Jun 01, 2021   \n",
       "2312940     3DreamDeveloper@gmail.com  Jan 17, 2018  Feb 02, 2018   \n",
       "2312941  appoworld.official@gmail.com  Aug 19, 2018  Aug 19, 2018   \n",
       "2312942           ruchisono@gmail.com   Aug 1, 2016  May 05, 2021   \n",
       "2312943     yyazilimdevelop@gmail.com   Aug 9, 2019  Aug 19, 2019   \n",
       "\n",
       "        Content Rating                                     Privacy Policy  \\\n",
       "0             Everyone                 https://beniyizibyose.tk/projects/   \n",
       "1             Everyone  https://dev4phones.wordpress.com/licencia-de-uso/   \n",
       "2             Everyone  https://www.vietnamairlines.com/vn/en/terms-an...   \n",
       "3             Everyone                                                NaN   \n",
       "4             Everyone                        http://www.horodyski.com.pl   \n",
       "...                ...                                                ...   \n",
       "2312939           Teen             http://a.4399sy.com.hk/user/aggreement   \n",
       "2312940       Everyone    http://www.oru.edu/about-oru/privacy-policy.php   \n",
       "2312941       Everyone  https://appoworld.000webhostapp.com/datastruct...   \n",
       "2312942       Everyone  https://docs.google.com/document/d/1x-9reZuLRX...   \n",
       "2312943       Everyone  https://biliyor-musun-sons.flycricket.io/priva...   \n",
       "\n",
       "        Ad Supported In App Purchases Editors Choice         Scraped Time  \n",
       "0              False            False          False  2021-06-15 20:19:35  \n",
       "1               True            False          False  2021-06-15 20:19:35  \n",
       "2              False            False          False  2021-06-15 20:19:35  \n",
       "3               True            False          False  2021-06-15 20:19:35  \n",
       "4              False            False          False  2021-06-15 20:19:35  \n",
       "...              ...              ...            ...                  ...  \n",
       "2312939        False            False          False  2021-06-16 12:59:18  \n",
       "2312940        False            False          False  2021-06-16 12:59:19  \n",
       "2312941        False            False          False  2021-06-16 12:59:19  \n",
       "2312942         True            False          False  2021-06-16 12:59:19  \n",
       "2312943         True            False          False  2021-06-16 12:59:19  \n",
       "\n",
       "[2312944 rows x 24 columns]"
      ]
     },
     "execution_count": 174,
     "metadata": {},
     "output_type": "execute_result"
    }
   ],
   "source": [
    "df"
   ]
  },
  {
   "cell_type": "markdown",
   "metadata": {},
   "source": [
    "Note that Maximum Installs is the total number of installs, not only active installs."
   ]
  },
  {
   "cell_type": "markdown",
   "metadata": {},
   "source": [
    "First, let's replace the spaces in the column names with underscores."
   ]
  },
  {
   "cell_type": "code",
   "execution_count": 175,
   "metadata": {},
   "outputs": [],
   "source": [
    "df.columns = [c.replace(' ', '_') for c in df.columns]"
   ]
  },
  {
   "cell_type": "markdown",
   "metadata": {},
   "source": [
    "Let's look at the column names and other info about our dataset."
   ]
  },
  {
   "cell_type": "code",
   "execution_count": 176,
   "metadata": {},
   "outputs": [
    {
     "name": "stdout",
     "output_type": "stream",
     "text": [
      "<class 'pandas.core.frame.DataFrame'>\n",
      "RangeIndex: 2312944 entries, 0 to 2312943\n",
      "Data columns (total 24 columns):\n",
      " #   Column             Dtype  \n",
      "---  ------             -----  \n",
      " 0   App_Name           object \n",
      " 1   App_Id             object \n",
      " 2   Category           object \n",
      " 3   Rating             float64\n",
      " 4   Rating_Count       float64\n",
      " 5   Installs           object \n",
      " 6   Minimum_Installs   float64\n",
      " 7   Maximum_Installs   int64  \n",
      " 8   Free               bool   \n",
      " 9   Price              float64\n",
      " 10  Currency           object \n",
      " 11  Size               object \n",
      " 12  Minimum_Android    object \n",
      " 13  Developer_Id       object \n",
      " 14  Developer_Website  object \n",
      " 15  Developer_Email    object \n",
      " 16  Released           object \n",
      " 17  Last_Updated       object \n",
      " 18  Content_Rating     object \n",
      " 19  Privacy_Policy     object \n",
      " 20  Ad_Supported       bool   \n",
      " 21  In_App_Purchases   bool   \n",
      " 22  Editors_Choice     bool   \n",
      " 23  Scraped_Time       object \n",
      "dtypes: bool(4), float64(4), int64(1), object(15)\n",
      "memory usage: 361.8+ MB\n"
     ]
    }
   ],
   "source": [
    "df.info()"
   ]
  },
  {
   "cell_type": "markdown",
   "metadata": {},
   "source": [
    "A summary of our numerical data before cleaning."
   ]
  },
  {
   "cell_type": "code",
   "execution_count": 177,
   "metadata": {},
   "outputs": [
    {
     "data": {
      "text/html": [
       "<div>\n",
       "<style scoped>\n",
       "    .dataframe tbody tr th:only-of-type {\n",
       "        vertical-align: middle;\n",
       "    }\n",
       "\n",
       "    .dataframe tbody tr th {\n",
       "        vertical-align: top;\n",
       "    }\n",
       "\n",
       "    .dataframe thead th {\n",
       "        text-align: right;\n",
       "    }\n",
       "</style>\n",
       "<table border=\"1\" class=\"dataframe\">\n",
       "  <thead>\n",
       "    <tr style=\"text-align: right;\">\n",
       "      <th></th>\n",
       "      <th>Rating</th>\n",
       "      <th>Rating_Count</th>\n",
       "      <th>Minimum_Installs</th>\n",
       "      <th>Maximum_Installs</th>\n",
       "      <th>Price</th>\n",
       "    </tr>\n",
       "  </thead>\n",
       "  <tbody>\n",
       "    <tr>\n",
       "      <th>count</th>\n",
       "      <td>2.290061e+06</td>\n",
       "      <td>2.290061e+06</td>\n",
       "      <td>2.312837e+06</td>\n",
       "      <td>2.312944e+06</td>\n",
       "      <td>2.312944e+06</td>\n",
       "    </tr>\n",
       "    <tr>\n",
       "      <th>mean</th>\n",
       "      <td>2.203152e+00</td>\n",
       "      <td>2.864839e+03</td>\n",
       "      <td>1.834452e+05</td>\n",
       "      <td>3.202017e+05</td>\n",
       "      <td>1.034992e-01</td>\n",
       "    </tr>\n",
       "    <tr>\n",
       "      <th>std</th>\n",
       "      <td>2.106223e+00</td>\n",
       "      <td>2.121626e+05</td>\n",
       "      <td>1.513144e+07</td>\n",
       "      <td>2.355495e+07</td>\n",
       "      <td>2.633127e+00</td>\n",
       "    </tr>\n",
       "    <tr>\n",
       "      <th>min</th>\n",
       "      <td>0.000000e+00</td>\n",
       "      <td>0.000000e+00</td>\n",
       "      <td>0.000000e+00</td>\n",
       "      <td>0.000000e+00</td>\n",
       "      <td>0.000000e+00</td>\n",
       "    </tr>\n",
       "    <tr>\n",
       "      <th>25%</th>\n",
       "      <td>0.000000e+00</td>\n",
       "      <td>0.000000e+00</td>\n",
       "      <td>5.000000e+01</td>\n",
       "      <td>8.400000e+01</td>\n",
       "      <td>0.000000e+00</td>\n",
       "    </tr>\n",
       "    <tr>\n",
       "      <th>50%</th>\n",
       "      <td>2.900000e+00</td>\n",
       "      <td>6.000000e+00</td>\n",
       "      <td>5.000000e+02</td>\n",
       "      <td>6.950000e+02</td>\n",
       "      <td>0.000000e+00</td>\n",
       "    </tr>\n",
       "    <tr>\n",
       "      <th>75%</th>\n",
       "      <td>4.300000e+00</td>\n",
       "      <td>4.200000e+01</td>\n",
       "      <td>5.000000e+03</td>\n",
       "      <td>7.354000e+03</td>\n",
       "      <td>0.000000e+00</td>\n",
       "    </tr>\n",
       "    <tr>\n",
       "      <th>max</th>\n",
       "      <td>5.000000e+00</td>\n",
       "      <td>1.385576e+08</td>\n",
       "      <td>1.000000e+10</td>\n",
       "      <td>1.205763e+10</td>\n",
       "      <td>4.000000e+02</td>\n",
       "    </tr>\n",
       "  </tbody>\n",
       "</table>\n",
       "</div>"
      ],
      "text/plain": [
       "             Rating  Rating_Count  Minimum_Installs  Maximum_Installs  \\\n",
       "count  2.290061e+06  2.290061e+06      2.312837e+06      2.312944e+06   \n",
       "mean   2.203152e+00  2.864839e+03      1.834452e+05      3.202017e+05   \n",
       "std    2.106223e+00  2.121626e+05      1.513144e+07      2.355495e+07   \n",
       "min    0.000000e+00  0.000000e+00      0.000000e+00      0.000000e+00   \n",
       "25%    0.000000e+00  0.000000e+00      5.000000e+01      8.400000e+01   \n",
       "50%    2.900000e+00  6.000000e+00      5.000000e+02      6.950000e+02   \n",
       "75%    4.300000e+00  4.200000e+01      5.000000e+03      7.354000e+03   \n",
       "max    5.000000e+00  1.385576e+08      1.000000e+10      1.205763e+10   \n",
       "\n",
       "              Price  \n",
       "count  2.312944e+06  \n",
       "mean   1.034992e-01  \n",
       "std    2.633127e+00  \n",
       "min    0.000000e+00  \n",
       "25%    0.000000e+00  \n",
       "50%    0.000000e+00  \n",
       "75%    0.000000e+00  \n",
       "max    4.000000e+02  "
      ]
     },
     "execution_count": 177,
     "metadata": {},
     "output_type": "execute_result"
    }
   ],
   "source": [
    "df.describe()"
   ]
  },
  {
   "cell_type": "markdown",
   "metadata": {},
   "source": [
    "We have 5 columns with numeric data."
   ]
  },
  {
   "cell_type": "markdown",
   "metadata": {},
   "source": [
    "Let's clean up our data. All of the columns with numerical data in them are going to be extremely important for this project, so let's see if there is anything we can clean up there."
   ]
  },
  {
   "cell_type": "markdown",
   "metadata": {},
   "source": [
    "We will start by looking for missing or incorrect data."
   ]
  },
  {
   "cell_type": "code",
   "execution_count": 178,
   "metadata": {},
   "outputs": [
    {
     "data": {
      "text/plain": [
       "Developer_Website    760835\n",
       "Privacy_Policy       420953\n",
       "Released              71053\n",
       "Rating                22883\n",
       "Rating_Count          22883\n",
       "Minimum_Android        6530\n",
       "Size                    196\n",
       "Currency                135\n",
       "Installs                107\n",
       "Minimum_Installs        107\n",
       "Developer_Id             33\n",
       "Developer_Email          31\n",
       "App_Name                  2\n",
       "App_Id                    0\n",
       "Price                     0\n",
       "Free                      0\n",
       "Maximum_Installs          0\n",
       "Last_Updated              0\n",
       "Content_Rating            0\n",
       "Category                  0\n",
       "Ad_Supported              0\n",
       "In_App_Purchases          0\n",
       "Editors_Choice            0\n",
       "Scraped_Time              0\n",
       "dtype: int64"
      ]
     },
     "execution_count": 178,
     "metadata": {},
     "output_type": "execute_result"
    }
   ],
   "source": [
    "df.isna().sum().sort_values(ascending = False)"
   ]
  },
  {
   "cell_type": "markdown",
   "metadata": {},
   "source": [
    "Let's visualize this."
   ]
  },
  {
   "cell_type": "code",
   "execution_count": 179,
   "metadata": {},
   "outputs": [
    {
     "data": {
      "text/plain": [
       "<AxesSubplot:>"
      ]
     },
     "execution_count": 179,
     "metadata": {},
     "output_type": "execute_result"
    },
    {
     "data": {
      "image/png": "[encoded data removed]",
      "text/plain": [
       "<Figure size 640x480 with 1 Axes>"
      ]
     },
     "metadata": {},
     "output_type": "display_data"
    }
   ],
   "source": [
    "missing = df.isna().sum().sort_values(ascending = False)\n",
    "missing[missing > 0].plot(kind = 'bar')"
   ]
  },
  {
   "cell_type": "markdown",
   "metadata": {},
   "source": [
    "Developer Website, Privacy Policy and Released have the most missing values. Luckily, we don't really need these. So let's drop these now. Let's also drop any other columns that we don't need, even if they have little to no missing values. We are going to drop Developer Id, Developer Email, and Scraped Time."
   ]
  },
  {
   "cell_type": "code",
   "execution_count": 180,
   "metadata": {},
   "outputs": [],
   "source": [
    "df.drop(columns=['Developer_Website', 'Privacy_Policy', 'Released', 'Developer_Id', 'Developer_Email', 'Scraped_Time'], inplace = True)"
   ]
  },
  {
   "cell_type": "markdown",
   "metadata": {},
   "source": [
    "Let's take another look at our missing values."
   ]
  },
  {
   "cell_type": "code",
   "execution_count": 181,
   "metadata": {},
   "outputs": [
    {
     "data": {
      "text/plain": [
       "Developer_Website    760835\n",
       "Privacy_Policy       420953\n",
       "Released              71053\n",
       "Rating                22883\n",
       "Rating_Count          22883\n",
       "Minimum_Android        6530\n",
       "Size                    196\n",
       "Currency                135\n",
       "Installs                107\n",
       "Minimum_Installs        107\n",
       "Developer_Id             33\n",
       "Developer_Email          31\n",
       "App_Name                  2\n",
       "App_Id                    0\n",
       "Price                     0\n",
       "Free                      0\n",
       "Maximum_Installs          0\n",
       "Last_Updated              0\n",
       "Content_Rating            0\n",
       "Category                  0\n",
       "Ad_Supported              0\n",
       "In_App_Purchases          0\n",
       "Editors_Choice            0\n",
       "Scraped_Time              0\n",
       "dtype: int64"
      ]
     },
     "execution_count": 181,
     "metadata": {},
     "output_type": "execute_result"
    }
   ],
   "source": [
    "missing"
   ]
  },
  {
   "cell_type": "markdown",
   "metadata": {},
   "source": [
    "Next, we want to drop the rows where there is insufficient data for the rest of the columns with null values as these won't help with our analysis"
   ]
  },
  {
   "cell_type": "code",
   "execution_count": 182,
   "metadata": {},
   "outputs": [],
   "source": [
    "df.dropna(inplace = True)"
   ]
  },
  {
   "cell_type": "markdown",
   "metadata": {},
   "source": [
    "One last look at our missing values."
   ]
  },
  {
   "cell_type": "code",
   "execution_count": 221,
   "metadata": {},
   "outputs": [
    {
     "data": {
      "text/plain": [
       "App_Name            0\n",
       "App_Id              0\n",
       "In_App_Purchases    0\n",
       "Ad_Supported        0\n",
       "Content_Rating      0\n",
       "Last_Updated        0\n",
       "Minimum_Android     0\n",
       "Size                0\n",
       "Currency            0\n",
       "Price               0\n",
       "Free                0\n",
       "Maximum_Installs    0\n",
       "Minimum_Installs    0\n",
       "Installs            0\n",
       "Rating_Count        0\n",
       "Rating              0\n",
       "Category            0\n",
       "Editors_Choice      0\n",
       "dtype: int64"
      ]
     },
     "execution_count": 221,
     "metadata": {},
     "output_type": "execute_result"
    }
   ],
   "source": [
    "missing = df.isna().sum().sort_values(ascending = False)\n",
    "missing"
   ]
  },
  {
   "cell_type": "markdown",
   "metadata": {},
   "source": [
    "Now let's see how many rows we are working with."
   ]
  },
  {
   "cell_type": "code",
   "execution_count": 184,
   "metadata": {},
   "outputs": [
    {
     "data": {
      "text/plain": [
       "2283513"
      ]
     },
     "execution_count": 184,
     "metadata": {},
     "output_type": "execute_result"
    }
   ],
   "source": [
    "len(df)"
   ]
  },
  {
   "cell_type": "markdown",
   "metadata": {},
   "source": [
    "Now we have no missing values."
   ]
  },
  {
   "cell_type": "markdown",
   "metadata": {},
   "source": [
    "## Ask Questions\n",
    "\n",
    "What are the top 10 categories in terms of downloads?<br>\n",
    "What are the top downloaded apps in each of these categories?<br>\n",
    "What are the top 10 categories in terms of ratings?<br>\n",
    "Do free apps or paid apps have a higher rating?<br>\n",
    "Do ad supported apps or non-ad supported apps have a higher or lower rating?<br>"
   ]
  },
  {
   "cell_type": "markdown",
   "metadata": {},
   "source": [
    "## Exploratory Analysis and Visualization<br>\n",
    "\n",
    "Let's do some analysis on our data in order to answer our questions.\n"
   ]
  },
  {
   "cell_type": "markdown",
   "metadata": {},
   "source": [
    "Let's start with our first question. What are the top 10 categories in terms of downloads?"
   ]
  },
  {
   "cell_type": "code",
   "execution_count": 185,
   "metadata": {},
   "outputs": [
    {
     "data": {
      "text/plain": [
       "array(['Adventure', 'Tools', 'Productivity', 'Communication', 'Social',\n",
       "       'Libraries & Demo', 'Lifestyle', 'Personalization', 'Racing',\n",
       "       'Maps & Navigation', 'Travel & Local', 'Food & Drink',\n",
       "       'Books & Reference', 'Medical', 'Puzzle', 'Entertainment',\n",
       "       'Arcade', 'Auto & Vehicles', 'Photography', 'Health & Fitness',\n",
       "       'Education', 'Shopping', 'Board', 'Music & Audio', 'Sports',\n",
       "       'Beauty', 'Business', 'Educational', 'Finance', 'News & Magazines',\n",
       "       'Casual', 'Art & Design', 'House & Home', 'Card', 'Events',\n",
       "       'Trivia', 'Weather', 'Strategy', 'Word', 'Video Players & Editors',\n",
       "       'Action', 'Simulation', 'Music', 'Dating', 'Role Playing',\n",
       "       'Casino', 'Comics', 'Parenting'], dtype=object)"
      ]
     },
     "execution_count": 185,
     "metadata": {},
     "output_type": "execute_result"
    }
   ],
   "source": [
    "df.Category.unique()"
   ]
  },
  {
   "cell_type": "markdown",
   "metadata": {},
   "source": [
    "Let's see how many categories we have."
   ]
  },
  {
   "cell_type": "code",
   "execution_count": 186,
   "metadata": {},
   "outputs": [
    {
     "data": {
      "text/plain": [
       "48"
      ]
     },
     "execution_count": 186,
     "metadata": {},
     "output_type": "execute_result"
    }
   ],
   "source": [
    "len(df.Category.unique())"
   ]
  },
  {
   "cell_type": "markdown",
   "metadata": {},
   "source": [
    "Let's look at how many apps are in each category."
   ]
  },
  {
   "cell_type": "code",
   "execution_count": 187,
   "metadata": {},
   "outputs": [
    {
     "data": {
      "text/plain": [
       "Education            239243\n",
       "Music & Audio        154380\n",
       "Business             141628\n",
       "Tools                141362\n",
       "Entertainment        137280\n",
       "Lifestyle            117586\n",
       "Books & Reference    116349\n",
       "Personalization       88785\n",
       "Health & Fitness      82339\n",
       "Productivity          77847\n",
       "Name: Category, dtype: int64"
      ]
     },
     "execution_count": 187,
     "metadata": {},
     "output_type": "execute_result"
    }
   ],
   "source": [
    "categories_by_apps = df.Category.value_counts()\n",
    "categories_by_apps[:10]"
   ]
  },
  {
   "cell_type": "markdown",
   "metadata": {},
   "source": [
    "Let's visualize this."
   ]
  },
  {
   "cell_type": "code",
   "execution_count": 188,
   "metadata": {},
   "outputs": [
    {
     "data": {
      "image/png": "[encoded data removed]",
      "text/plain": [
       "<Figure size 640x480 with 1 Axes>"
      ]
     },
     "metadata": {},
     "output_type": "display_data"
    }
   ],
   "source": [
    "categories_by_apps[:10].plot(kind = 'barh').invert_yaxis()"
   ]
  },
  {
   "cell_type": "markdown",
   "metadata": {},
   "source": [
    "It looks like Education has the most apps in the Google Play Store."
   ]
  },
  {
   "cell_type": "markdown",
   "metadata": {},
   "source": [
    "Let's look at the categories with the least number of apps."
   ]
  },
  {
   "cell_type": "code",
   "execution_count": 189,
   "metadata": {},
   "outputs": [
    {
     "data": {
      "text/plain": [
       "Word                8512\n",
       "Strategy            8200\n",
       "Card                8025\n",
       "Weather             7105\n",
       "Dating              6418\n",
       "Libraries & Demo    5048\n",
       "Casino              5019\n",
       "Music               4128\n",
       "Parenting           3747\n",
       "Comics              2815\n",
       "Name: Category, dtype: int64"
      ]
     },
     "execution_count": 189,
     "metadata": {},
     "output_type": "execute_result"
    }
   ],
   "source": [
    "categories_by_apps[-10:]"
   ]
  },
  {
   "cell_type": "markdown",
   "metadata": {},
   "source": [
    "Now, let's visualize this one."
   ]
  },
  {
   "cell_type": "code",
   "execution_count": 190,
   "metadata": {},
   "outputs": [
    {
     "data": {
      "text/plain": [
       "<bound method _AxesBase.invert_yaxis of <AxesSubplot:>>"
      ]
     },
     "execution_count": 190,
     "metadata": {},
     "output_type": "execute_result"
    },
    {
     "data": {
      "image/png": "[encoded data removed]",
      "text/plain": [
       "<Figure size 640x480 with 1 Axes>"
      ]
     },
     "metadata": {},
     "output_type": "display_data"
    }
   ],
   "source": [
    "categories_by_apps[-10:].plot(kind = 'barh').invert_yaxis"
   ]
  },
  {
   "cell_type": "markdown",
   "metadata": {},
   "source": [
    "This graph shows that the Comics section has the least number of apps in the Google Play Store."
   ]
  },
  {
   "cell_type": "markdown",
   "metadata": {},
   "source": [
    "Let's see which categories are the most popular based on the number of installs. We will be using the Maximum Installs column to calculate this."
   ]
  },
  {
   "cell_type": "code",
   "execution_count": 191,
   "metadata": {},
   "outputs": [
    {
     "data": {
      "text/html": [
       "<div>\n",
       "<style scoped>\n",
       "    .dataframe tbody tr th:only-of-type {\n",
       "        vertical-align: middle;\n",
       "    }\n",
       "\n",
       "    .dataframe tbody tr th {\n",
       "        vertical-align: top;\n",
       "    }\n",
       "\n",
       "    .dataframe thead th {\n",
       "        text-align: right;\n",
       "    }\n",
       "</style>\n",
       "<table border=\"1\" class=\"dataframe\">\n",
       "  <thead>\n",
       "    <tr style=\"text-align: right;\">\n",
       "      <th></th>\n",
       "      <th>Maximum_Installs</th>\n",
       "    </tr>\n",
       "    <tr>\n",
       "      <th>Category</th>\n",
       "      <th></th>\n",
       "    </tr>\n",
       "  </thead>\n",
       "  <tbody>\n",
       "    <tr>\n",
       "      <th>Tools</th>\n",
       "      <td>117343276840</td>\n",
       "    </tr>\n",
       "    <tr>\n",
       "      <th>Communication</th>\n",
       "      <td>71510826612</td>\n",
       "    </tr>\n",
       "    <tr>\n",
       "      <th>Productivity</th>\n",
       "      <td>45173883306</td>\n",
       "    </tr>\n",
       "    <tr>\n",
       "      <th>Entertainment</th>\n",
       "      <td>32482686631</td>\n",
       "    </tr>\n",
       "    <tr>\n",
       "      <th>Social</th>\n",
       "      <td>32210378179</td>\n",
       "    </tr>\n",
       "    <tr>\n",
       "      <th>Video Players &amp; Editors</th>\n",
       "      <td>31419003364</td>\n",
       "    </tr>\n",
       "    <tr>\n",
       "      <th>Photography</th>\n",
       "      <td>31143166165</td>\n",
       "    </tr>\n",
       "    <tr>\n",
       "      <th>Action</th>\n",
       "      <td>30684040392</td>\n",
       "    </tr>\n",
       "    <tr>\n",
       "      <th>Casual</th>\n",
       "      <td>30439738978</td>\n",
       "    </tr>\n",
       "    <tr>\n",
       "      <th>Arcade</th>\n",
       "      <td>25656825980</td>\n",
       "    </tr>\n",
       "  </tbody>\n",
       "</table>\n",
       "</div>"
      ],
      "text/plain": [
       "                         Maximum_Installs\n",
       "Category                                 \n",
       "Tools                        117343276840\n",
       "Communication                 71510826612\n",
       "Productivity                  45173883306\n",
       "Entertainment                 32482686631\n",
       "Social                        32210378179\n",
       "Video Players & Editors       31419003364\n",
       "Photography                   31143166165\n",
       "Action                        30684040392\n",
       "Casual                        30439738978\n",
       "Arcade                        25656825980"
      ]
     },
     "execution_count": 191,
     "metadata": {},
     "output_type": "execute_result"
    }
   ],
   "source": [
    "category_installs = df.groupby(['Category'])[['Maximum_Installs']].sum().sort_values(by = 'Maximum_Installs', ascending = False)\n",
    "category_installs.head(10)"
   ]
  },
  {
   "cell_type": "markdown",
   "metadata": {},
   "source": [
    "Let's visualize this."
   ]
  },
  {
   "cell_type": "code",
   "execution_count": 192,
   "metadata": {},
   "outputs": [
    {
     "data": {
      "image/png": "[encoded data removed]",
      "text/plain": [
       "<Figure size 640x480 with 1 Axes>"
      ]
     },
     "metadata": {},
     "output_type": "display_data"
    }
   ],
   "source": [
    "category_installs.head(10).plot(kind = 'barh').invert_yaxis()"
   ]
  },
  {
   "cell_type": "markdown",
   "metadata": {},
   "source": [
    "The graph shows that the top 10 categories are:<br>\n",
    "Tools<br>\n",
    "Communication<br>\n",
    "Productivity<br>\n",
    "Entertainment<br>\n",
    "Social<br>\n",
    "Video Players & Editors<br>\n",
    "Photography<br>\n",
    "Action<br>\n",
    "Casual<br>\n",
    "Arcade<br>"
   ]
  },
  {
   "cell_type": "markdown",
   "metadata": {},
   "source": [
    "This answers one of our questions."
   ]
  },
  {
   "cell_type": "markdown",
   "metadata": {},
   "source": [
    "Let's do some more analysis and answer our next question. What are the top downloaded apps in each of these categories?"
   ]
  },
  {
   "cell_type": "markdown",
   "metadata": {},
   "source": [
    "First, let's find out the top downloaded apps in general."
   ]
  },
  {
   "cell_type": "code",
   "execution_count": 193,
   "metadata": {},
   "outputs": [
    {
     "data": {
      "text/html": [
       "<div>\n",
       "<style scoped>\n",
       "    .dataframe tbody tr th:only-of-type {\n",
       "        vertical-align: middle;\n",
       "    }\n",
       "\n",
       "    .dataframe tbody tr th {\n",
       "        vertical-align: top;\n",
       "    }\n",
       "\n",
       "    .dataframe thead th {\n",
       "        text-align: right;\n",
       "    }\n",
       "</style>\n",
       "<table border=\"1\" class=\"dataframe\">\n",
       "  <thead>\n",
       "    <tr style=\"text-align: right;\">\n",
       "      <th></th>\n",
       "      <th>Maximum_Installs</th>\n",
       "    </tr>\n",
       "    <tr>\n",
       "      <th>App_Name</th>\n",
       "      <th></th>\n",
       "    </tr>\n",
       "  </thead>\n",
       "  <tbody>\n",
       "    <tr>\n",
       "      <th>Google Play services</th>\n",
       "      <td>12057627016</td>\n",
       "    </tr>\n",
       "    <tr>\n",
       "      <th>YouTube</th>\n",
       "      <td>9766230924</td>\n",
       "    </tr>\n",
       "    <tr>\n",
       "      <th>Google</th>\n",
       "      <td>9154248491</td>\n",
       "    </tr>\n",
       "    <tr>\n",
       "      <th>Google Maps - Navigate &amp; Explore</th>\n",
       "      <td>9141671889</td>\n",
       "    </tr>\n",
       "    <tr>\n",
       "      <th>Google Text-to-Speech</th>\n",
       "      <td>9034404884</td>\n",
       "    </tr>\n",
       "    <tr>\n",
       "      <th>Google Chrome: Fast &amp; Secure</th>\n",
       "      <td>8925640788</td>\n",
       "    </tr>\n",
       "    <tr>\n",
       "      <th>Gmail</th>\n",
       "      <td>8756574289</td>\n",
       "    </tr>\n",
       "    <tr>\n",
       "      <th>Android Accessibility Suite</th>\n",
       "      <td>7408134567</td>\n",
       "    </tr>\n",
       "    <tr>\n",
       "      <th>Google Drive</th>\n",
       "      <td>7028265259</td>\n",
       "    </tr>\n",
       "    <tr>\n",
       "      <th>Facebook</th>\n",
       "      <td>6782619635</td>\n",
       "    </tr>\n",
       "  </tbody>\n",
       "</table>\n",
       "</div>"
      ],
      "text/plain": [
       "                                  Maximum_Installs\n",
       "App_Name                                          \n",
       "Google Play services                   12057627016\n",
       "YouTube                                 9766230924\n",
       "Google                                  9154248491\n",
       "Google Maps - Navigate & Explore        9141671889\n",
       "Google Text-to-Speech                   9034404884\n",
       "Google Chrome: Fast & Secure            8925640788\n",
       "Gmail                                   8756574289\n",
       "Android Accessibility Suite             7408134567\n",
       "Google Drive                            7028265259\n",
       "Facebook                                6782619635"
      ]
     },
     "execution_count": 193,
     "metadata": {},
     "output_type": "execute_result"
    }
   ],
   "source": [
    "top_app_names = df.groupby('App_Name')[['Maximum_Installs']].sum().sort_values(by = 'Maximum_Installs', ascending = False)\n",
    "top_app_names.head(10)"
   ]
  },
  {
   "cell_type": "markdown",
   "metadata": {},
   "source": [
    "Let's visualize this."
   ]
  },
  {
   "cell_type": "code",
   "execution_count": 194,
   "metadata": {},
   "outputs": [
    {
     "data": {
      "image/png": "[encoded data removed]",
      "text/plain": [
       "<Figure size 640x480 with 1 Axes>"
      ]
     },
     "metadata": {},
     "output_type": "display_data"
    }
   ],
   "source": [
    "top_app_names.head(10).plot(kind = 'barh').invert_yaxis()"
   ]
  },
  {
   "cell_type": "markdown",
   "metadata": {},
   "source": [
    "It looks like Google Play services is the most installed. However, this is loaded onto all Android devices automatically. Let's drop this value."
   ]
  },
  {
   "cell_type": "code",
   "execution_count": 195,
   "metadata": {},
   "outputs": [],
   "source": [
    "df = df[df.App_Name != 'Google Play services']"
   ]
  },
  {
   "cell_type": "markdown",
   "metadata": {},
   "source": [
    "Let's visualize this again"
   ]
  },
  {
   "cell_type": "code",
   "execution_count": 196,
   "metadata": {},
   "outputs": [
    {
     "data": {
      "text/html": [
       "<div>\n",
       "<style scoped>\n",
       "    .dataframe tbody tr th:only-of-type {\n",
       "        vertical-align: middle;\n",
       "    }\n",
       "\n",
       "    .dataframe tbody tr th {\n",
       "        vertical-align: top;\n",
       "    }\n",
       "\n",
       "    .dataframe thead th {\n",
       "        text-align: right;\n",
       "    }\n",
       "</style>\n",
       "<table border=\"1\" class=\"dataframe\">\n",
       "  <thead>\n",
       "    <tr style=\"text-align: right;\">\n",
       "      <th></th>\n",
       "      <th>Maximum_Installs</th>\n",
       "    </tr>\n",
       "    <tr>\n",
       "      <th>App_Name</th>\n",
       "      <th></th>\n",
       "    </tr>\n",
       "  </thead>\n",
       "  <tbody>\n",
       "    <tr>\n",
       "      <th>YouTube</th>\n",
       "      <td>9766230924</td>\n",
       "    </tr>\n",
       "    <tr>\n",
       "      <th>Google</th>\n",
       "      <td>9154248491</td>\n",
       "    </tr>\n",
       "    <tr>\n",
       "      <th>Google Maps - Navigate &amp; Explore</th>\n",
       "      <td>9141671889</td>\n",
       "    </tr>\n",
       "    <tr>\n",
       "      <th>Google Text-to-Speech</th>\n",
       "      <td>9034404884</td>\n",
       "    </tr>\n",
       "    <tr>\n",
       "      <th>Google Chrome: Fast &amp; Secure</th>\n",
       "      <td>8925640788</td>\n",
       "    </tr>\n",
       "    <tr>\n",
       "      <th>Gmail</th>\n",
       "      <td>8756574289</td>\n",
       "    </tr>\n",
       "    <tr>\n",
       "      <th>Android Accessibility Suite</th>\n",
       "      <td>7408134567</td>\n",
       "    </tr>\n",
       "    <tr>\n",
       "      <th>Google Drive</th>\n",
       "      <td>7028265259</td>\n",
       "    </tr>\n",
       "    <tr>\n",
       "      <th>Facebook</th>\n",
       "      <td>6782619635</td>\n",
       "    </tr>\n",
       "    <tr>\n",
       "      <th>WhatsApp Messenger</th>\n",
       "      <td>6265637751</td>\n",
       "    </tr>\n",
       "  </tbody>\n",
       "</table>\n",
       "</div>"
      ],
      "text/plain": [
       "                                  Maximum_Installs\n",
       "App_Name                                          \n",
       "YouTube                                 9766230924\n",
       "Google                                  9154248491\n",
       "Google Maps - Navigate & Explore        9141671889\n",
       "Google Text-to-Speech                   9034404884\n",
       "Google Chrome: Fast & Secure            8925640788\n",
       "Gmail                                   8756574289\n",
       "Android Accessibility Suite             7408134567\n",
       "Google Drive                            7028265259\n",
       "Facebook                                6782619635\n",
       "WhatsApp Messenger                      6265637751"
      ]
     },
     "execution_count": 196,
     "metadata": {},
     "output_type": "execute_result"
    }
   ],
   "source": [
    "top_app_names = df.groupby('App_Name')[['Maximum_Installs']].sum().sort_values(by = 'Maximum_Installs', ascending = False)\n",
    "top_app_names.head(10)"
   ]
  },
  {
   "cell_type": "code",
   "execution_count": 197,
   "metadata": {},
   "outputs": [
    {
     "data": {
      "image/png": "[encoded data removed]",
      "text/plain": [
       "<Figure size 640x480 with 1 Axes>"
      ]
     },
     "metadata": {},
     "output_type": "display_data"
    }
   ],
   "source": [
    "top_app_names.head(10).plot(kind = 'barh').invert_yaxis()"
   ]
  },
  {
   "cell_type": "markdown",
   "metadata": {},
   "source": [
    "Let's look at the top apps per category."
   ]
  },
  {
   "cell_type": "markdown",
   "metadata": {},
   "source": [
    "We'll start by filtering out any apps that are not in the top 10 categories."
   ]
  },
  {
   "cell_type": "code",
   "execution_count": 198,
   "metadata": {},
   "outputs": [
    {
     "data": {
      "text/html": [
       "<div>\n",
       "<style scoped>\n",
       "    .dataframe tbody tr th:only-of-type {\n",
       "        vertical-align: middle;\n",
       "    }\n",
       "\n",
       "    .dataframe tbody tr th {\n",
       "        vertical-align: top;\n",
       "    }\n",
       "\n",
       "    .dataframe thead th {\n",
       "        text-align: right;\n",
       "    }\n",
       "</style>\n",
       "<table border=\"1\" class=\"dataframe\">\n",
       "  <thead>\n",
       "    <tr style=\"text-align: right;\">\n",
       "      <th></th>\n",
       "      <th>App_Name</th>\n",
       "      <th>App_Id</th>\n",
       "      <th>Category</th>\n",
       "      <th>Rating</th>\n",
       "      <th>Rating_Count</th>\n",
       "      <th>Installs</th>\n",
       "      <th>Minimum_Installs</th>\n",
       "      <th>Maximum_Installs</th>\n",
       "      <th>Free</th>\n",
       "      <th>Price</th>\n",
       "      <th>Currency</th>\n",
       "      <th>Size</th>\n",
       "      <th>Minimum_Android</th>\n",
       "      <th>Last_Updated</th>\n",
       "      <th>Content_Rating</th>\n",
       "      <th>Ad_Supported</th>\n",
       "      <th>In_App_Purchases</th>\n",
       "      <th>Editors_Choice</th>\n",
       "    </tr>\n",
       "  </thead>\n",
       "  <tbody>\n",
       "    <tr>\n",
       "      <th>1</th>\n",
       "      <td>Ampere Battery Info</td>\n",
       "      <td>com.webserveis.batteryinfo</td>\n",
       "      <td>Tools</td>\n",
       "      <td>4.4</td>\n",
       "      <td>64.0</td>\n",
       "      <td>5,000+</td>\n",
       "      <td>5000.0</td>\n",
       "      <td>7662</td>\n",
       "      <td>True</td>\n",
       "      <td>0.0</td>\n",
       "      <td>USD</td>\n",
       "      <td>2.9M</td>\n",
       "      <td>5.0 and up</td>\n",
       "      <td>May 06, 2021</td>\n",
       "      <td>Everyone</td>\n",
       "      <td>True</td>\n",
       "      <td>False</td>\n",
       "      <td>False</td>\n",
       "    </tr>\n",
       "    <tr>\n",
       "      <th>2</th>\n",
       "      <td>Vibook</td>\n",
       "      <td>com.doantiepvien.crm</td>\n",
       "      <td>Productivity</td>\n",
       "      <td>0.0</td>\n",
       "      <td>0.0</td>\n",
       "      <td>50+</td>\n",
       "      <td>50.0</td>\n",
       "      <td>58</td>\n",
       "      <td>True</td>\n",
       "      <td>0.0</td>\n",
       "      <td>USD</td>\n",
       "      <td>3.7M</td>\n",
       "      <td>4.0.3 and up</td>\n",
       "      <td>Aug 19, 2019</td>\n",
       "      <td>Everyone</td>\n",
       "      <td>False</td>\n",
       "      <td>False</td>\n",
       "      <td>False</td>\n",
       "    </tr>\n",
       "    <tr>\n",
       "      <th>3</th>\n",
       "      <td>Smart City Trichy Public Service Vehicles 17UC...</td>\n",
       "      <td>cst.stJoseph.ug17ucs548</td>\n",
       "      <td>Communication</td>\n",
       "      <td>5.0</td>\n",
       "      <td>5.0</td>\n",
       "      <td>10+</td>\n",
       "      <td>10.0</td>\n",
       "      <td>19</td>\n",
       "      <td>True</td>\n",
       "      <td>0.0</td>\n",
       "      <td>USD</td>\n",
       "      <td>1.8M</td>\n",
       "      <td>4.0.3 and up</td>\n",
       "      <td>Oct 13, 2018</td>\n",
       "      <td>Everyone</td>\n",
       "      <td>True</td>\n",
       "      <td>False</td>\n",
       "      <td>False</td>\n",
       "    </tr>\n",
       "    <tr>\n",
       "      <th>4</th>\n",
       "      <td>GROW.me</td>\n",
       "      <td>com.horodyski.grower</td>\n",
       "      <td>Tools</td>\n",
       "      <td>0.0</td>\n",
       "      <td>0.0</td>\n",
       "      <td>100+</td>\n",
       "      <td>100.0</td>\n",
       "      <td>478</td>\n",
       "      <td>True</td>\n",
       "      <td>0.0</td>\n",
       "      <td>USD</td>\n",
       "      <td>6.2M</td>\n",
       "      <td>4.1 and up</td>\n",
       "      <td>Nov 12, 2018</td>\n",
       "      <td>Everyone</td>\n",
       "      <td>False</td>\n",
       "      <td>False</td>\n",
       "      <td>False</td>\n",
       "    </tr>\n",
       "    <tr>\n",
       "      <th>5</th>\n",
       "      <td>IMOCCI</td>\n",
       "      <td>com.imocci</td>\n",
       "      <td>Social</td>\n",
       "      <td>0.0</td>\n",
       "      <td>0.0</td>\n",
       "      <td>50+</td>\n",
       "      <td>50.0</td>\n",
       "      <td>89</td>\n",
       "      <td>True</td>\n",
       "      <td>0.0</td>\n",
       "      <td>USD</td>\n",
       "      <td>46M</td>\n",
       "      <td>6.0 and up</td>\n",
       "      <td>Dec 20, 2019</td>\n",
       "      <td>Teen</td>\n",
       "      <td>False</td>\n",
       "      <td>True</td>\n",
       "      <td>False</td>\n",
       "    </tr>\n",
       "    <tr>\n",
       "      <th>8</th>\n",
       "      <td>WhatsOpen</td>\n",
       "      <td>com.whatsopen.app</td>\n",
       "      <td>Communication</td>\n",
       "      <td>0.0</td>\n",
       "      <td>0.0</td>\n",
       "      <td>10+</td>\n",
       "      <td>10.0</td>\n",
       "      <td>18</td>\n",
       "      <td>True</td>\n",
       "      <td>0.0</td>\n",
       "      <td>USD</td>\n",
       "      <td>1.3M</td>\n",
       "      <td>4.4 and up</td>\n",
       "      <td>Dec 07, 2018</td>\n",
       "      <td>Teen</td>\n",
       "      <td>False</td>\n",
       "      <td>False</td>\n",
       "      <td>False</td>\n",
       "    </tr>\n",
       "    <tr>\n",
       "      <th>17</th>\n",
       "      <td>All in one shopping app</td>\n",
       "      <td>com.tkapplications.allinoneshoppingapp</td>\n",
       "      <td>Tools</td>\n",
       "      <td>5.0</td>\n",
       "      <td>6.0</td>\n",
       "      <td>50+</td>\n",
       "      <td>50.0</td>\n",
       "      <td>62</td>\n",
       "      <td>True</td>\n",
       "      <td>0.0</td>\n",
       "      <td>USD</td>\n",
       "      <td>2.0M</td>\n",
       "      <td>4.1 and up</td>\n",
       "      <td>May 05, 2019</td>\n",
       "      <td>Everyone</td>\n",
       "      <td>False</td>\n",
       "      <td>False</td>\n",
       "      <td>False</td>\n",
       "    </tr>\n",
       "    <tr>\n",
       "      <th>20</th>\n",
       "      <td>Nepali Congress</td>\n",
       "      <td>np.com.NepaliCongress</td>\n",
       "      <td>Social</td>\n",
       "      <td>0.0</td>\n",
       "      <td>0.0</td>\n",
       "      <td>100+</td>\n",
       "      <td>100.0</td>\n",
       "      <td>336</td>\n",
       "      <td>True</td>\n",
       "      <td>0.0</td>\n",
       "      <td>USD</td>\n",
       "      <td>24M</td>\n",
       "      <td>5.0 and up</td>\n",
       "      <td>May 31, 2021</td>\n",
       "      <td>Everyone</td>\n",
       "      <td>False</td>\n",
       "      <td>False</td>\n",
       "      <td>False</td>\n",
       "    </tr>\n",
       "    <tr>\n",
       "      <th>23</th>\n",
       "      <td>Coloring Book Barbaie</td>\n",
       "      <td>com.bisgumah.barbie</td>\n",
       "      <td>Entertainment</td>\n",
       "      <td>3.8</td>\n",
       "      <td>736.0</td>\n",
       "      <td>500,000+</td>\n",
       "      <td>500000.0</td>\n",
       "      <td>646456</td>\n",
       "      <td>True</td>\n",
       "      <td>0.0</td>\n",
       "      <td>USD</td>\n",
       "      <td>20M</td>\n",
       "      <td>5.0 and up</td>\n",
       "      <td>Nov 13, 2020</td>\n",
       "      <td>Everyone</td>\n",
       "      <td>True</td>\n",
       "      <td>False</td>\n",
       "      <td>False</td>\n",
       "    </tr>\n",
       "    <tr>\n",
       "      <th>24</th>\n",
       "      <td>Random Number Generator</td>\n",
       "      <td>com.gary.randomnumber</td>\n",
       "      <td>Tools</td>\n",
       "      <td>4.2</td>\n",
       "      <td>35.0</td>\n",
       "      <td>10,000+</td>\n",
       "      <td>10000.0</td>\n",
       "      <td>21124</td>\n",
       "      <td>True</td>\n",
       "      <td>0.0</td>\n",
       "      <td>USD</td>\n",
       "      <td>2.4M</td>\n",
       "      <td>5.0 and up</td>\n",
       "      <td>May 30, 2020</td>\n",
       "      <td>Everyone</td>\n",
       "      <td>True</td>\n",
       "      <td>False</td>\n",
       "      <td>False</td>\n",
       "    </tr>\n",
       "  </tbody>\n",
       "</table>\n",
       "</div>"
      ],
      "text/plain": [
       "                                             App_Name  \\\n",
       "1                                 Ampere Battery Info   \n",
       "2                                              Vibook   \n",
       "3   Smart City Trichy Public Service Vehicles 17UC...   \n",
       "4                                             GROW.me   \n",
       "5                                              IMOCCI   \n",
       "8                                           WhatsOpen   \n",
       "17                            All in one shopping app   \n",
       "20                                    Nepali Congress   \n",
       "23                              Coloring Book Barbaie   \n",
       "24                            Random Number Generator   \n",
       "\n",
       "                                    App_Id       Category  Rating  \\\n",
       "1               com.webserveis.batteryinfo          Tools     4.4   \n",
       "2                     com.doantiepvien.crm   Productivity     0.0   \n",
       "3                  cst.stJoseph.ug17ucs548  Communication     5.0   \n",
       "4                     com.horodyski.grower          Tools     0.0   \n",
       "5                               com.imocci         Social     0.0   \n",
       "8                        com.whatsopen.app  Communication     0.0   \n",
       "17  com.tkapplications.allinoneshoppingapp          Tools     5.0   \n",
       "20                   np.com.NepaliCongress         Social     0.0   \n",
       "23                     com.bisgumah.barbie  Entertainment     3.8   \n",
       "24                   com.gary.randomnumber          Tools     4.2   \n",
       "\n",
       "    Rating_Count  Installs  Minimum_Installs  Maximum_Installs  Free  Price  \\\n",
       "1           64.0    5,000+            5000.0              7662  True    0.0   \n",
       "2            0.0       50+              50.0                58  True    0.0   \n",
       "3            5.0       10+              10.0                19  True    0.0   \n",
       "4            0.0      100+             100.0               478  True    0.0   \n",
       "5            0.0       50+              50.0                89  True    0.0   \n",
       "8            0.0       10+              10.0                18  True    0.0   \n",
       "17           6.0       50+              50.0                62  True    0.0   \n",
       "20           0.0      100+             100.0               336  True    0.0   \n",
       "23         736.0  500,000+          500000.0            646456  True    0.0   \n",
       "24          35.0   10,000+           10000.0             21124  True    0.0   \n",
       "\n",
       "   Currency  Size Minimum_Android  Last_Updated Content_Rating  Ad_Supported  \\\n",
       "1       USD  2.9M      5.0 and up  May 06, 2021       Everyone          True   \n",
       "2       USD  3.7M    4.0.3 and up  Aug 19, 2019       Everyone         False   \n",
       "3       USD  1.8M    4.0.3 and up  Oct 13, 2018       Everyone          True   \n",
       "4       USD  6.2M      4.1 and up  Nov 12, 2018       Everyone         False   \n",
       "5       USD   46M      6.0 and up  Dec 20, 2019           Teen         False   \n",
       "8       USD  1.3M      4.4 and up  Dec 07, 2018           Teen         False   \n",
       "17      USD  2.0M      4.1 and up  May 05, 2019       Everyone         False   \n",
       "20      USD   24M      5.0 and up  May 31, 2021       Everyone         False   \n",
       "23      USD   20M      5.0 and up  Nov 13, 2020       Everyone          True   \n",
       "24      USD  2.4M      5.0 and up  May 30, 2020       Everyone          True   \n",
       "\n",
       "    In_App_Purchases  Editors_Choice  \n",
       "1              False           False  \n",
       "2              False           False  \n",
       "3              False           False  \n",
       "4              False           False  \n",
       "5               True           False  \n",
       "8              False           False  \n",
       "17             False           False  \n",
       "20             False           False  \n",
       "23             False           False  \n",
       "24             False           False  "
      ]
     },
     "execution_count": 198,
     "metadata": {},
     "output_type": "execute_result"
    }
   ],
   "source": [
    "top_10_cat = ['Tools', 'Communication', 'Productivity', 'Entertainment', 'Social', 'Video Players & Editors', 'Photography', 'Action', 'Casual', 'Arcade']\n",
    "apps_with_top_10_cat = df[df.Category.isin(top_10_cat)]\n",
    "\n",
    "\n",
    "apps_with_top_10_cat.head(10)\n",
    "\n"
   ]
  },
  {
   "cell_type": "markdown",
   "metadata": {},
   "source": [
    "Now, let's drop any columns that are not App_Name, Category and Maximum_Installs then sort by Maximum_Installs."
   ]
  },
  {
   "cell_type": "code",
   "execution_count": 199,
   "metadata": {},
   "outputs": [
    {
     "data": {
      "text/html": [
       "<div>\n",
       "<style scoped>\n",
       "    .dataframe tbody tr th:only-of-type {\n",
       "        vertical-align: middle;\n",
       "    }\n",
       "\n",
       "    .dataframe tbody tr th {\n",
       "        vertical-align: top;\n",
       "    }\n",
       "\n",
       "    .dataframe thead th {\n",
       "        text-align: right;\n",
       "    }\n",
       "</style>\n",
       "<table border=\"1\" class=\"dataframe\">\n",
       "  <thead>\n",
       "    <tr style=\"text-align: right;\">\n",
       "      <th></th>\n",
       "      <th>App_Name</th>\n",
       "      <th>Category</th>\n",
       "      <th>Maximum_Installs</th>\n",
       "    </tr>\n",
       "  </thead>\n",
       "  <tbody>\n",
       "    <tr>\n",
       "      <th>881403</th>\n",
       "      <td>YouTube</td>\n",
       "      <td>Video Players &amp; Editors</td>\n",
       "      <td>9766230924</td>\n",
       "    </tr>\n",
       "    <tr>\n",
       "      <th>1773294</th>\n",
       "      <td>Google</td>\n",
       "      <td>Tools</td>\n",
       "      <td>9154248491</td>\n",
       "    </tr>\n",
       "    <tr>\n",
       "      <th>1060335</th>\n",
       "      <td>Google Text-to-Speech</td>\n",
       "      <td>Tools</td>\n",
       "      <td>9034404884</td>\n",
       "    </tr>\n",
       "    <tr>\n",
       "      <th>944254</th>\n",
       "      <td>Google Chrome: Fast &amp; Secure</td>\n",
       "      <td>Communication</td>\n",
       "      <td>8925640788</td>\n",
       "    </tr>\n",
       "    <tr>\n",
       "      <th>2099458</th>\n",
       "      <td>Gmail</td>\n",
       "      <td>Communication</td>\n",
       "      <td>8756574289</td>\n",
       "    </tr>\n",
       "    <tr>\n",
       "      <th>2011395</th>\n",
       "      <td>Android Accessibility Suite</td>\n",
       "      <td>Tools</td>\n",
       "      <td>7408134567</td>\n",
       "    </tr>\n",
       "    <tr>\n",
       "      <th>893676</th>\n",
       "      <td>Google Drive</td>\n",
       "      <td>Productivity</td>\n",
       "      <td>7028265259</td>\n",
       "    </tr>\n",
       "    <tr>\n",
       "      <th>2222701</th>\n",
       "      <td>Facebook</td>\n",
       "      <td>Social</td>\n",
       "      <td>6782619635</td>\n",
       "    </tr>\n",
       "    <tr>\n",
       "      <th>385470</th>\n",
       "      <td>WhatsApp Messenger</td>\n",
       "      <td>Communication</td>\n",
       "      <td>6265637751</td>\n",
       "    </tr>\n",
       "    <tr>\n",
       "      <th>167781</th>\n",
       "      <td>Google TV (previously Play Movies &amp; TV)</td>\n",
       "      <td>Video Players &amp; Editors</td>\n",
       "      <td>6156518915</td>\n",
       "    </tr>\n",
       "  </tbody>\n",
       "</table>\n",
       "</div>"
      ],
      "text/plain": [
       "                                        App_Name                 Category  \\\n",
       "881403                                   YouTube  Video Players & Editors   \n",
       "1773294                                   Google                    Tools   \n",
       "1060335                    Google Text-to-Speech                    Tools   \n",
       "944254              Google Chrome: Fast & Secure            Communication   \n",
       "2099458                                    Gmail            Communication   \n",
       "2011395              Android Accessibility Suite                    Tools   \n",
       "893676                              Google Drive             Productivity   \n",
       "2222701                                 Facebook                   Social   \n",
       "385470                        WhatsApp Messenger            Communication   \n",
       "167781   Google TV (previously Play Movies & TV)  Video Players & Editors   \n",
       "\n",
       "         Maximum_Installs  \n",
       "881403         9766230924  \n",
       "1773294        9154248491  \n",
       "1060335        9034404884  \n",
       "944254         8925640788  \n",
       "2099458        8756574289  \n",
       "2011395        7408134567  \n",
       "893676         7028265259  \n",
       "2222701        6782619635  \n",
       "385470         6265637751  \n",
       "167781         6156518915  "
      ]
     },
     "execution_count": 199,
     "metadata": {},
     "output_type": "execute_result"
    }
   ],
   "source": [
    "filtered_top_apps_by_cat = apps_with_top_10_cat[['App_Name', 'Category', 'Maximum_Installs']].sort_values(by = 'Maximum_Installs', ascending = False)\n",
    "filtered_top_apps_by_cat.head(10)"
   ]
  },
  {
   "cell_type": "markdown",
   "metadata": {},
   "source": [
    "Now, let's get the top app for each category."
   ]
  },
  {
   "cell_type": "code",
   "execution_count": 200,
   "metadata": {},
   "outputs": [],
   "source": [
    "top_app_names_by_cat = {'Tools': '', 'Communication': '', 'Productivity': '', 'Entertainment': '', 'Social': '', 'Video Players & Editors': '', 'Photography': '', 'Action': '', 'Casual': '', 'Arcade': ''}\n",
    "\n",
    "for x in top_10_cat:\n",
    "    filtered = filtered_top_apps_by_cat[filtered_top_apps_by_cat['Category'] == x]\n",
    "    name = filtered.iloc[0]['App_Name']\n",
    "    top_app_names_by_cat[x] = name"
   ]
  },
  {
   "cell_type": "markdown",
   "metadata": {},
   "source": [
    "Here's the list of the top apps by category."
   ]
  },
  {
   "cell_type": "code",
   "execution_count": 201,
   "metadata": {},
   "outputs": [
    {
     "data": {
      "text/plain": [
       "{'Tools': 'Google',\n",
       " 'Communication': 'Google Chrome: Fast & Secure',\n",
       " 'Productivity': 'Google Drive',\n",
       " 'Entertainment': 'Google Play Games',\n",
       " 'Social': 'Facebook',\n",
       " 'Video Players & Editors': 'YouTube',\n",
       " 'Photography': 'Google Photos',\n",
       " 'Action': 'Garena Free Fire - Rampage',\n",
       " 'Casual': 'Candy Crush Saga',\n",
       " 'Arcade': 'Subway Surfers'}"
      ]
     },
     "execution_count": 201,
     "metadata": {},
     "output_type": "execute_result"
    }
   ],
   "source": [
    "top_app_names_by_cat"
   ]
  },
  {
   "cell_type": "markdown",
   "metadata": {},
   "source": [
    "This answers another one of our questions."
   ]
  },
  {
   "cell_type": "markdown",
   "metadata": {},
   "source": [
    "Let's move onto our next question. What are the top 10 categories in terms of ratings?"
   ]
  },
  {
   "cell_type": "markdown",
   "metadata": {},
   "source": [
    "Let's start off by filtering out any unnecessary columns. To get more accurate results, we'll also filter out any records with less than 10 ratings."
   ]
  },
  {
   "cell_type": "code",
   "execution_count": 202,
   "metadata": {},
   "outputs": [],
   "source": [
    "df_r = df[['Category', 'Rating', 'Rating_Count']]\n",
    "df_r = df_r[df_r.Rating_Count > 10]"
   ]
  },
  {
   "cell_type": "markdown",
   "metadata": {},
   "source": [
    "Now, let's drop the Rating_Count column."
   ]
  },
  {
   "cell_type": "code",
   "execution_count": 203,
   "metadata": {},
   "outputs": [
    {
     "data": {
      "text/html": [
       "<div>\n",
       "<style scoped>\n",
       "    .dataframe tbody tr th:only-of-type {\n",
       "        vertical-align: middle;\n",
       "    }\n",
       "\n",
       "    .dataframe tbody tr th {\n",
       "        vertical-align: top;\n",
       "    }\n",
       "\n",
       "    .dataframe thead th {\n",
       "        text-align: right;\n",
       "    }\n",
       "</style>\n",
       "<table border=\"1\" class=\"dataframe\">\n",
       "  <thead>\n",
       "    <tr style=\"text-align: right;\">\n",
       "      <th></th>\n",
       "      <th>Category</th>\n",
       "      <th>Rating</th>\n",
       "    </tr>\n",
       "  </thead>\n",
       "  <tbody>\n",
       "    <tr>\n",
       "      <th>1</th>\n",
       "      <td>Tools</td>\n",
       "      <td>4.4</td>\n",
       "    </tr>\n",
       "    <tr>\n",
       "      <th>6</th>\n",
       "      <td>Libraries &amp; Demo</td>\n",
       "      <td>4.5</td>\n",
       "    </tr>\n",
       "    <tr>\n",
       "      <th>7</th>\n",
       "      <td>Lifestyle</td>\n",
       "      <td>2.0</td>\n",
       "    </tr>\n",
       "    <tr>\n",
       "      <th>9</th>\n",
       "      <td>Personalization</td>\n",
       "      <td>4.7</td>\n",
       "    </tr>\n",
       "    <tr>\n",
       "      <th>10</th>\n",
       "      <td>Racing</td>\n",
       "      <td>4.9</td>\n",
       "    </tr>\n",
       "    <tr>\n",
       "      <th>...</th>\n",
       "      <td>...</td>\n",
       "      <td>...</td>\n",
       "    </tr>\n",
       "    <tr>\n",
       "      <th>2312932</th>\n",
       "      <td>Action</td>\n",
       "      <td>4.3</td>\n",
       "    </tr>\n",
       "    <tr>\n",
       "      <th>2312933</th>\n",
       "      <td>Music &amp; Audio</td>\n",
       "      <td>4.0</td>\n",
       "    </tr>\n",
       "    <tr>\n",
       "      <th>2312938</th>\n",
       "      <td>Education</td>\n",
       "      <td>3.4</td>\n",
       "    </tr>\n",
       "    <tr>\n",
       "      <th>2312939</th>\n",
       "      <td>Role Playing</td>\n",
       "      <td>4.3</td>\n",
       "    </tr>\n",
       "    <tr>\n",
       "      <th>2312943</th>\n",
       "      <td>Trivia</td>\n",
       "      <td>5.0</td>\n",
       "    </tr>\n",
       "  </tbody>\n",
       "</table>\n",
       "<p>954219 rows × 2 columns</p>\n",
       "</div>"
      ],
      "text/plain": [
       "                 Category  Rating\n",
       "1                   Tools     4.4\n",
       "6        Libraries & Demo     4.5\n",
       "7               Lifestyle     2.0\n",
       "9         Personalization     4.7\n",
       "10                 Racing     4.9\n",
       "...                   ...     ...\n",
       "2312932            Action     4.3\n",
       "2312933     Music & Audio     4.0\n",
       "2312938         Education     3.4\n",
       "2312939      Role Playing     4.3\n",
       "2312943            Trivia     5.0\n",
       "\n",
       "[954219 rows x 2 columns]"
      ]
     },
     "execution_count": 203,
     "metadata": {},
     "output_type": "execute_result"
    }
   ],
   "source": [
    "df_r = df_r[['Category', 'Rating']]\n",
    "df_r"
   ]
  },
  {
   "cell_type": "markdown",
   "metadata": {},
   "source": [
    "Let's get the top categories by rating. We will do this by calculating the mean of each category's rating."
   ]
  },
  {
   "cell_type": "code",
   "execution_count": 204,
   "metadata": {},
   "outputs": [
    {
     "data": {
      "text/plain": [
       "{'Tools': None,\n",
       " 'Libraries & Demo': None,\n",
       " 'Lifestyle': None,\n",
       " 'Personalization': None,\n",
       " 'Racing': None,\n",
       " 'Travel & Local': None,\n",
       " 'Food & Drink': None,\n",
       " 'Puzzle': None,\n",
       " 'Entertainment': None,\n",
       " 'Arcade': None,\n",
       " 'Maps & Navigation': None,\n",
       " 'Auto & Vehicles': None,\n",
       " 'Photography': None,\n",
       " 'Health & Fitness': None,\n",
       " 'Shopping': None,\n",
       " 'Books & Reference': None,\n",
       " 'Sports': None,\n",
       " 'Finance': None,\n",
       " 'Music & Audio': None,\n",
       " 'News & Magazines': None,\n",
       " 'House & Home': None,\n",
       " 'Education': None,\n",
       " 'Business': None,\n",
       " 'Card': None,\n",
       " 'Events': None,\n",
       " 'Productivity': None,\n",
       " 'Weather': None,\n",
       " 'Board': None,\n",
       " 'Social': None,\n",
       " 'Adventure': None,\n",
       " 'Medical': None,\n",
       " 'Strategy': None,\n",
       " 'Word': None,\n",
       " 'Beauty': None,\n",
       " 'Video Players & Editors': None,\n",
       " 'Action': None,\n",
       " 'Simulation': None,\n",
       " 'Casual': None,\n",
       " 'Music': None,\n",
       " 'Trivia': None,\n",
       " 'Art & Design': None,\n",
       " 'Dating': None,\n",
       " 'Role Playing': None,\n",
       " 'Communication': None,\n",
       " 'Comics': None,\n",
       " 'Educational': None,\n",
       " 'Casino': None,\n",
       " 'Parenting': None}"
      ]
     },
     "execution_count": 204,
     "metadata": {},
     "output_type": "execute_result"
    }
   ],
   "source": [
    "rating_mean = {}\n",
    "for x in df_r['Category']:\n",
    "    if x not in rating_mean:\n",
    "        rating_mean[x] = None\n",
    "rating_mean"
   ]
  },
  {
   "cell_type": "code",
   "execution_count": 205,
   "metadata": {},
   "outputs": [
    {
     "data": {
      "text/plain": [
       "{'Tools': 3.9005776077290117,\n",
       " 'Libraries & Demo': 4.064004149377594,\n",
       " 'Lifestyle': 4.0787608509014595,\n",
       " 'Personalization': 4.255260108299446,\n",
       " 'Racing': 3.974141161773891,\n",
       " 'Travel & Local': 3.9985190654043254,\n",
       " 'Food & Drink': 4.11263040482908,\n",
       " 'Puzzle': 4.204816955684007,\n",
       " 'Entertainment': 3.985843682179889,\n",
       " 'Arcade': 4.203059952923801,\n",
       " 'Maps & Navigation': 3.8657999337528985,\n",
       " 'Auto & Vehicles': 3.840518455903071,\n",
       " 'Photography': 3.8951903485254693,\n",
       " 'Health & Fitness': 3.981368867353119,\n",
       " 'Shopping': 4.112893958597381,\n",
       " 'Books & Reference': 4.304775711773729,\n",
       " 'Sports': 4.048170272812794,\n",
       " 'Finance': 3.9530999936991993,\n",
       " 'Music & Audio': 4.296524016037967,\n",
       " 'News & Magazines': 4.1118892175864525,\n",
       " 'House & Home': 3.747564766839378,\n",
       " 'Education': 4.188984746697159,\n",
       " 'Business': 3.9678647121158597,\n",
       " 'Card': 4.032094406244192,\n",
       " 'Events': 4.236554438128553,\n",
       " 'Productivity': 3.9744957893991932,\n",
       " 'Weather': 4.119607023411372,\n",
       " 'Board': 4.044205354117248,\n",
       " 'Social': 4.143537622904886,\n",
       " 'Adventure': 4.051331572991324,\n",
       " 'Medical': 4.028065034502316,\n",
       " 'Strategy': 3.9619328226281674,\n",
       " 'Word': 4.21651376146789,\n",
       " 'Beauty': 4.023352680095596,\n",
       " 'Video Players & Editors': 3.8141081552551244,\n",
       " 'Action': 3.97986863488624,\n",
       " 'Simulation': 3.8186182873730043,\n",
       " 'Casual': 4.07509840758633,\n",
       " 'Music': 3.899415692821369,\n",
       " 'Trivia': 4.073349381017882,\n",
       " 'Art & Design': 3.990458469782673,\n",
       " 'Dating': 3.8529789719626164,\n",
       " 'Role Playing': 3.9780555555555552,\n",
       " 'Communication': 4.041549447009556,\n",
       " 'Comics': 3.9408209806157353,\n",
       " 'Educational': 4.106897971790383,\n",
       " 'Casino': 4.1459062676453975,\n",
       " 'Parenting': 4.014539400665926}"
      ]
     },
     "execution_count": 205,
     "metadata": {},
     "output_type": "execute_result"
    }
   ],
   "source": [
    "for x in rating_mean:\n",
    "    mean = df_r.loc[df_r['Category'] == x, 'Rating'].mean()\n",
    "    rating_mean[x] = mean\n",
    "rating_mean"
   ]
  },
  {
   "cell_type": "code",
   "execution_count": 206,
   "metadata": {},
   "outputs": [
    {
     "data": {
      "text/plain": [
       "[('Books & Reference', 4.304775711773729),\n",
       " ('Music & Audio', 4.296524016037967),\n",
       " ('Personalization', 4.255260108299446),\n",
       " ('Events', 4.236554438128553),\n",
       " ('Word', 4.21651376146789),\n",
       " ('Puzzle', 4.204816955684007),\n",
       " ('Arcade', 4.203059952923801),\n",
       " ('Education', 4.188984746697159),\n",
       " ('Casino', 4.1459062676453975),\n",
       " ('Social', 4.143537622904886),\n",
       " ('Weather', 4.119607023411372),\n",
       " ('Shopping', 4.112893958597381),\n",
       " ('Food & Drink', 4.11263040482908),\n",
       " ('News & Magazines', 4.1118892175864525),\n",
       " ('Educational', 4.106897971790383),\n",
       " ('Lifestyle', 4.0787608509014595),\n",
       " ('Casual', 4.07509840758633),\n",
       " ('Trivia', 4.073349381017882),\n",
       " ('Libraries & Demo', 4.064004149377594),\n",
       " ('Adventure', 4.051331572991324),\n",
       " ('Sports', 4.048170272812794),\n",
       " ('Board', 4.044205354117248),\n",
       " ('Communication', 4.041549447009556),\n",
       " ('Card', 4.032094406244192),\n",
       " ('Medical', 4.028065034502316),\n",
       " ('Beauty', 4.023352680095596),\n",
       " ('Parenting', 4.014539400665926),\n",
       " ('Travel & Local', 3.9985190654043254),\n",
       " ('Art & Design', 3.990458469782673),\n",
       " ('Entertainment', 3.985843682179889),\n",
       " ('Health & Fitness', 3.981368867353119),\n",
       " ('Action', 3.97986863488624),\n",
       " ('Role Playing', 3.9780555555555552),\n",
       " ('Productivity', 3.9744957893991932),\n",
       " ('Racing', 3.974141161773891),\n",
       " ('Business', 3.9678647121158597),\n",
       " ('Strategy', 3.9619328226281674),\n",
       " ('Finance', 3.9530999936991993),\n",
       " ('Comics', 3.9408209806157353),\n",
       " ('Tools', 3.9005776077290117),\n",
       " ('Music', 3.899415692821369),\n",
       " ('Photography', 3.8951903485254693),\n",
       " ('Maps & Navigation', 3.8657999337528985),\n",
       " ('Dating', 3.8529789719626164),\n",
       " ('Auto & Vehicles', 3.840518455903071),\n",
       " ('Simulation', 3.8186182873730043),\n",
       " ('Video Players & Editors', 3.8141081552551244),\n",
       " ('House & Home', 3.747564766839378)]"
      ]
     },
     "execution_count": 206,
     "metadata": {},
     "output_type": "execute_result"
    }
   ],
   "source": [
    "rating_mean = sorted(rating_mean.items(), key = lambda kv:kv[1], reverse = True)\n",
    "rating_mean"
   ]
  },
  {
   "cell_type": "markdown",
   "metadata": {},
   "source": [
    "Now, let's plot the top 10."
   ]
  },
  {
   "cell_type": "code",
   "execution_count": 207,
   "metadata": {},
   "outputs": [
    {
     "data": {
      "image/png": "[encoded data removed]",
      "text/plain": [
       "<Figure size 2000x480 with 1 Axes>"
      ]
     },
     "metadata": {},
     "output_type": "display_data"
    }
   ],
   "source": [
    "rating_mean = dict(rating_mean)\n",
    "rating_mean = dict(list(rating_mean.items())[:10])\n",
    "\n",
    "\n",
    "names = list(rating_mean.keys())\n",
    "values = list(rating_mean.values())\n",
    "\n",
    "plt.figure(figsize=(20,4.8))\n",
    "plt.bar(range(len(rating_mean)), values, tick_label = names, width = 0.5)\n",
    "\n",
    "plt.show()\n"
   ]
  },
  {
   "cell_type": "markdown",
   "metadata": {},
   "source": [
    "This answers our next question."
   ]
  },
  {
   "cell_type": "markdown",
   "metadata": {},
   "source": [
    "Let's move onto our next question. What are the top 10 apps, by rating in each of these categories? (minimum of 250 ratings)"
   ]
  },
  {
   "cell_type": "markdown",
   "metadata": {},
   "source": [
    "First, let's isolate the necessary columns."
   ]
  },
  {
   "cell_type": "code",
   "execution_count": 208,
   "metadata": {},
   "outputs": [
    {
     "data": {
      "text/html": [
       "<div>\n",
       "<style scoped>\n",
       "    .dataframe tbody tr th:only-of-type {\n",
       "        vertical-align: middle;\n",
       "    }\n",
       "\n",
       "    .dataframe tbody tr th {\n",
       "        vertical-align: top;\n",
       "    }\n",
       "\n",
       "    .dataframe thead th {\n",
       "        text-align: right;\n",
       "    }\n",
       "</style>\n",
       "<table border=\"1\" class=\"dataframe\">\n",
       "  <thead>\n",
       "    <tr style=\"text-align: right;\">\n",
       "      <th></th>\n",
       "      <th>App_Name</th>\n",
       "      <th>Category</th>\n",
       "      <th>Rating</th>\n",
       "      <th>Rating_Count</th>\n",
       "    </tr>\n",
       "  </thead>\n",
       "  <tbody>\n",
       "    <tr>\n",
       "      <th>0</th>\n",
       "      <td>Gakondo</td>\n",
       "      <td>Adventure</td>\n",
       "      <td>0.0</td>\n",
       "      <td>0.0</td>\n",
       "    </tr>\n",
       "    <tr>\n",
       "      <th>1</th>\n",
       "      <td>Ampere Battery Info</td>\n",
       "      <td>Tools</td>\n",
       "      <td>4.4</td>\n",
       "      <td>64.0</td>\n",
       "    </tr>\n",
       "    <tr>\n",
       "      <th>2</th>\n",
       "      <td>Vibook</td>\n",
       "      <td>Productivity</td>\n",
       "      <td>0.0</td>\n",
       "      <td>0.0</td>\n",
       "    </tr>\n",
       "    <tr>\n",
       "      <th>3</th>\n",
       "      <td>Smart City Trichy Public Service Vehicles 17UC...</td>\n",
       "      <td>Communication</td>\n",
       "      <td>5.0</td>\n",
       "      <td>5.0</td>\n",
       "    </tr>\n",
       "    <tr>\n",
       "      <th>4</th>\n",
       "      <td>GROW.me</td>\n",
       "      <td>Tools</td>\n",
       "      <td>0.0</td>\n",
       "      <td>0.0</td>\n",
       "    </tr>\n",
       "    <tr>\n",
       "      <th>...</th>\n",
       "      <td>...</td>\n",
       "      <td>...</td>\n",
       "      <td>...</td>\n",
       "      <td>...</td>\n",
       "    </tr>\n",
       "    <tr>\n",
       "      <th>2312939</th>\n",
       "      <td>大俠客—熱血歸來</td>\n",
       "      <td>Role Playing</td>\n",
       "      <td>4.3</td>\n",
       "      <td>16775.0</td>\n",
       "    </tr>\n",
       "    <tr>\n",
       "      <th>2312940</th>\n",
       "      <td>ORU Online</td>\n",
       "      <td>Education</td>\n",
       "      <td>0.0</td>\n",
       "      <td>0.0</td>\n",
       "    </tr>\n",
       "    <tr>\n",
       "      <th>2312941</th>\n",
       "      <td>Data Structure</td>\n",
       "      <td>Education</td>\n",
       "      <td>0.0</td>\n",
       "      <td>0.0</td>\n",
       "    </tr>\n",
       "    <tr>\n",
       "      <th>2312942</th>\n",
       "      <td>Devi Suktam</td>\n",
       "      <td>Music &amp; Audio</td>\n",
       "      <td>3.5</td>\n",
       "      <td>8.0</td>\n",
       "    </tr>\n",
       "    <tr>\n",
       "      <th>2312943</th>\n",
       "      <td>Biliyor Musun - Sonsuz Yarış</td>\n",
       "      <td>Trivia</td>\n",
       "      <td>5.0</td>\n",
       "      <td>12.0</td>\n",
       "    </tr>\n",
       "  </tbody>\n",
       "</table>\n",
       "<p>2283512 rows × 4 columns</p>\n",
       "</div>"
      ],
      "text/plain": [
       "                                                  App_Name       Category  \\\n",
       "0                                                  Gakondo      Adventure   \n",
       "1                                      Ampere Battery Info          Tools   \n",
       "2                                                   Vibook   Productivity   \n",
       "3        Smart City Trichy Public Service Vehicles 17UC...  Communication   \n",
       "4                                                  GROW.me          Tools   \n",
       "...                                                    ...            ...   \n",
       "2312939                                           大俠客—熱血歸來   Role Playing   \n",
       "2312940                                         ORU Online      Education   \n",
       "2312941                                     Data Structure      Education   \n",
       "2312942                                        Devi Suktam  Music & Audio   \n",
       "2312943                       Biliyor Musun - Sonsuz Yarış         Trivia   \n",
       "\n",
       "         Rating  Rating_Count  \n",
       "0           0.0           0.0  \n",
       "1           4.4          64.0  \n",
       "2           0.0           0.0  \n",
       "3           5.0           5.0  \n",
       "4           0.0           0.0  \n",
       "...         ...           ...  \n",
       "2312939     4.3       16775.0  \n",
       "2312940     0.0           0.0  \n",
       "2312941     0.0           0.0  \n",
       "2312942     3.5           8.0  \n",
       "2312943     5.0          12.0  \n",
       "\n",
       "[2283512 rows x 4 columns]"
      ]
     },
     "execution_count": 208,
     "metadata": {},
     "output_type": "execute_result"
    }
   ],
   "source": [
    "df_ra = df[['App_Name', 'Category', 'Rating', 'Rating_Count']]\n",
    "df_ra"
   ]
  },
  {
   "cell_type": "markdown",
   "metadata": {},
   "source": [
    "Now, we will get rid of any entries with less than 101 ratings."
   ]
  },
  {
   "cell_type": "code",
   "execution_count": 209,
   "metadata": {},
   "outputs": [
    {
     "data": {
      "text/html": [
       "<div>\n",
       "<style scoped>\n",
       "    .dataframe tbody tr th:only-of-type {\n",
       "        vertical-align: middle;\n",
       "    }\n",
       "\n",
       "    .dataframe tbody tr th {\n",
       "        vertical-align: top;\n",
       "    }\n",
       "\n",
       "    .dataframe thead th {\n",
       "        text-align: right;\n",
       "    }\n",
       "</style>\n",
       "<table border=\"1\" class=\"dataframe\">\n",
       "  <thead>\n",
       "    <tr style=\"text-align: right;\">\n",
       "      <th></th>\n",
       "      <th>App_Name</th>\n",
       "      <th>Category</th>\n",
       "      <th>Rating</th>\n",
       "      <th>Rating_Count</th>\n",
       "    </tr>\n",
       "  </thead>\n",
       "  <tbody>\n",
       "    <tr>\n",
       "      <th>9</th>\n",
       "      <td>Neon 3d Iron Tech Keyboard Theme</td>\n",
       "      <td>Personalization</td>\n",
       "      <td>4.7</td>\n",
       "      <td>820.0</td>\n",
       "    </tr>\n",
       "    <tr>\n",
       "      <th>14</th>\n",
       "      <td>Caliway Conductor</td>\n",
       "      <td>Travel &amp; Local</td>\n",
       "      <td>3.7</td>\n",
       "      <td>1572.0</td>\n",
       "    </tr>\n",
       "    <tr>\n",
       "      <th>18</th>\n",
       "      <td>REDMOND  Robot</td>\n",
       "      <td>Lifestyle</td>\n",
       "      <td>3.7</td>\n",
       "      <td>328.0</td>\n",
       "    </tr>\n",
       "    <tr>\n",
       "      <th>23</th>\n",
       "      <td>Coloring Book Barbaie</td>\n",
       "      <td>Entertainment</td>\n",
       "      <td>3.8</td>\n",
       "      <td>736.0</td>\n",
       "    </tr>\n",
       "    <tr>\n",
       "      <th>34</th>\n",
       "      <td>Vancouver Bus Tracker</td>\n",
       "      <td>Maps &amp; Navigation</td>\n",
       "      <td>2.3</td>\n",
       "      <td>420.0</td>\n",
       "    </tr>\n",
       "    <tr>\n",
       "      <th>...</th>\n",
       "      <td>...</td>\n",
       "      <td>...</td>\n",
       "      <td>...</td>\n",
       "      <td>...</td>\n",
       "    </tr>\n",
       "    <tr>\n",
       "      <th>2312913</th>\n",
       "      <td>Moneygment</td>\n",
       "      <td>Finance</td>\n",
       "      <td>2.0</td>\n",
       "      <td>1687.0</td>\n",
       "    </tr>\n",
       "    <tr>\n",
       "      <th>2312931</th>\n",
       "      <td>Driving Day</td>\n",
       "      <td>Entertainment</td>\n",
       "      <td>2.8</td>\n",
       "      <td>1002.0</td>\n",
       "    </tr>\n",
       "    <tr>\n",
       "      <th>2312932</th>\n",
       "      <td>Hopeless 2: Cave Escape</td>\n",
       "      <td>Action</td>\n",
       "      <td>4.3</td>\n",
       "      <td>103466.0</td>\n",
       "    </tr>\n",
       "    <tr>\n",
       "      <th>2312933</th>\n",
       "      <td>Caustic Editor for VolcaSample</td>\n",
       "      <td>Music &amp; Audio</td>\n",
       "      <td>4.0</td>\n",
       "      <td>344.0</td>\n",
       "    </tr>\n",
       "    <tr>\n",
       "      <th>2312939</th>\n",
       "      <td>大俠客—熱血歸來</td>\n",
       "      <td>Role Playing</td>\n",
       "      <td>4.3</td>\n",
       "      <td>16775.0</td>\n",
       "    </tr>\n",
       "  </tbody>\n",
       "</table>\n",
       "<p>262928 rows × 4 columns</p>\n",
       "</div>"
      ],
      "text/plain": [
       "                                 App_Name           Category  Rating  \\\n",
       "9        Neon 3d Iron Tech Keyboard Theme    Personalization     4.7   \n",
       "14                      Caliway Conductor     Travel & Local     3.7   \n",
       "18                         REDMOND  Robot          Lifestyle     3.7   \n",
       "23                  Coloring Book Barbaie      Entertainment     3.8   \n",
       "34                  Vancouver Bus Tracker  Maps & Navigation     2.3   \n",
       "...                                   ...                ...     ...   \n",
       "2312913                        Moneygment            Finance     2.0   \n",
       "2312931                       Driving Day      Entertainment     2.8   \n",
       "2312932           Hopeless 2: Cave Escape             Action     4.3   \n",
       "2312933    Caustic Editor for VolcaSample      Music & Audio     4.0   \n",
       "2312939                          大俠客—熱血歸來       Role Playing     4.3   \n",
       "\n",
       "         Rating_Count  \n",
       "9               820.0  \n",
       "14             1572.0  \n",
       "18              328.0  \n",
       "23              736.0  \n",
       "34              420.0  \n",
       "...               ...  \n",
       "2312913        1687.0  \n",
       "2312931        1002.0  \n",
       "2312932      103466.0  \n",
       "2312933         344.0  \n",
       "2312939       16775.0  \n",
       "\n",
       "[262928 rows x 4 columns]"
      ]
     },
     "execution_count": 209,
     "metadata": {},
     "output_type": "execute_result"
    }
   ],
   "source": [
    "df_ra = df_ra[df_ra.Rating_Count > 249]\n",
    "df_ra"
   ]
  },
  {
   "cell_type": "markdown",
   "metadata": {},
   "source": [
    "Let's drop any records that are not in the categories we found above."
   ]
  },
  {
   "cell_type": "code",
   "execution_count": 210,
   "metadata": {},
   "outputs": [
    {
     "data": {
      "text/html": [
       "<div>\n",
       "<style scoped>\n",
       "    .dataframe tbody tr th:only-of-type {\n",
       "        vertical-align: middle;\n",
       "    }\n",
       "\n",
       "    .dataframe tbody tr th {\n",
       "        vertical-align: top;\n",
       "    }\n",
       "\n",
       "    .dataframe thead th {\n",
       "        text-align: right;\n",
       "    }\n",
       "</style>\n",
       "<table border=\"1\" class=\"dataframe\">\n",
       "  <thead>\n",
       "    <tr style=\"text-align: right;\">\n",
       "      <th></th>\n",
       "      <th>App_Name</th>\n",
       "      <th>Category</th>\n",
       "      <th>Rating</th>\n",
       "      <th>Rating_Count</th>\n",
       "    </tr>\n",
       "  </thead>\n",
       "  <tbody>\n",
       "    <tr>\n",
       "      <th>9</th>\n",
       "      <td>Neon 3d Iron Tech Keyboard Theme</td>\n",
       "      <td>Personalization</td>\n",
       "      <td>4.7</td>\n",
       "      <td>820.0</td>\n",
       "    </tr>\n",
       "    <tr>\n",
       "      <th>61</th>\n",
       "      <td>Learn Electrical Engineering</td>\n",
       "      <td>Books &amp; Reference</td>\n",
       "      <td>4.1</td>\n",
       "      <td>337.0</td>\n",
       "    </tr>\n",
       "    <tr>\n",
       "      <th>83</th>\n",
       "      <td>GO SMS PRO CRYSTAL THEME</td>\n",
       "      <td>Personalization</td>\n",
       "      <td>4.0</td>\n",
       "      <td>452.0</td>\n",
       "    </tr>\n",
       "    <tr>\n",
       "      <th>114</th>\n",
       "      <td>Cute Theme Fluffy Love</td>\n",
       "      <td>Personalization</td>\n",
       "      <td>4.3</td>\n",
       "      <td>473.0</td>\n",
       "    </tr>\n",
       "    <tr>\n",
       "      <th>126</th>\n",
       "      <td>Taariikhda Soomaaliya - History of Somalia</td>\n",
       "      <td>Books &amp; Reference</td>\n",
       "      <td>4.3</td>\n",
       "      <td>261.0</td>\n",
       "    </tr>\n",
       "    <tr>\n",
       "      <th>...</th>\n",
       "      <td>...</td>\n",
       "      <td>...</td>\n",
       "      <td>...</td>\n",
       "      <td>...</td>\n",
       "    </tr>\n",
       "    <tr>\n",
       "      <th>2312719</th>\n",
       "      <td>حل لعبة وصلة 2</td>\n",
       "      <td>Word</td>\n",
       "      <td>4.2</td>\n",
       "      <td>1606.0</td>\n",
       "    </tr>\n",
       "    <tr>\n",
       "      <th>2312760</th>\n",
       "      <td>Bouncy Ballz</td>\n",
       "      <td>Arcade</td>\n",
       "      <td>3.7</td>\n",
       "      <td>2003.0</td>\n",
       "    </tr>\n",
       "    <tr>\n",
       "      <th>2312782</th>\n",
       "      <td>Emojis - Puppy Emoji</td>\n",
       "      <td>Social</td>\n",
       "      <td>4.2</td>\n",
       "      <td>515.0</td>\n",
       "    </tr>\n",
       "    <tr>\n",
       "      <th>2312852</th>\n",
       "      <td>Evergreen e-Learning</td>\n",
       "      <td>Education</td>\n",
       "      <td>3.8</td>\n",
       "      <td>3026.0</td>\n",
       "    </tr>\n",
       "    <tr>\n",
       "      <th>2312933</th>\n",
       "      <td>Caustic Editor for VolcaSample</td>\n",
       "      <td>Music &amp; Audio</td>\n",
       "      <td>4.0</td>\n",
       "      <td>344.0</td>\n",
       "    </tr>\n",
       "  </tbody>\n",
       "</table>\n",
       "<p>81718 rows × 4 columns</p>\n",
       "</div>"
      ],
      "text/plain": [
       "                                           App_Name           Category  \\\n",
       "9                  Neon 3d Iron Tech Keyboard Theme    Personalization   \n",
       "61                     Learn Electrical Engineering  Books & Reference   \n",
       "83                         GO SMS PRO CRYSTAL THEME    Personalization   \n",
       "114                          Cute Theme Fluffy Love    Personalization   \n",
       "126      Taariikhda Soomaaliya - History of Somalia  Books & Reference   \n",
       "...                                             ...                ...   \n",
       "2312719                              حل لعبة وصلة 2               Word   \n",
       "2312760                                Bouncy Ballz             Arcade   \n",
       "2312782                        Emojis - Puppy Emoji             Social   \n",
       "2312852                        Evergreen e-Learning          Education   \n",
       "2312933              Caustic Editor for VolcaSample      Music & Audio   \n",
       "\n",
       "         Rating  Rating_Count  \n",
       "9           4.7         820.0  \n",
       "61          4.1         337.0  \n",
       "83          4.0         452.0  \n",
       "114         4.3         473.0  \n",
       "126         4.3         261.0  \n",
       "...         ...           ...  \n",
       "2312719     4.2        1606.0  \n",
       "2312760     3.7        2003.0  \n",
       "2312782     4.2         515.0  \n",
       "2312852     3.8        3026.0  \n",
       "2312933     4.0         344.0  \n",
       "\n",
       "[81718 rows x 4 columns]"
      ]
     },
     "execution_count": 210,
     "metadata": {},
     "output_type": "execute_result"
    }
   ],
   "source": [
    "rat_cats = ['Books & Reference', 'Music & Audio', 'Personalization', 'Events', 'Word', 'Puzzle', 'Arcade', 'Education', 'Casino', 'Social']\n",
    "df_ra = df_ra[df_ra.Category.isin(rat_cats)]\n",
    "df_ra"
   ]
  },
  {
   "cell_type": "markdown",
   "metadata": {},
   "source": [
    "Now, we'll find the top 10 apps in each category. Since multiple apps will probably be rated 5.0, we will choose the app that has the most ratings."
   ]
  },
  {
   "cell_type": "code",
   "execution_count": 211,
   "metadata": {},
   "outputs": [
    {
     "name": "stderr",
     "output_type": "stream",
     "text": [
      "C:\\Users\\ddrom\\AppData\\Local\\Temp\\ipykernel_27576\\271982612.py:1: SettingWithCopyWarning: \n",
      "A value is trying to be set on a copy of a slice from a DataFrame\n",
      "\n",
      "See the caveats in the documentation: https://pandas.pydata.org/pandas-docs/stable/user_guide/indexing.html#returning-a-view-versus-a-copy\n",
      "  df_ra.sort_values(['Rating', 'Rating_Count'], inplace = True, ascending = False)\n"
     ]
    },
    {
     "data": {
      "text/html": [
       "<div>\n",
       "<style scoped>\n",
       "    .dataframe tbody tr th:only-of-type {\n",
       "        vertical-align: middle;\n",
       "    }\n",
       "\n",
       "    .dataframe tbody tr th {\n",
       "        vertical-align: top;\n",
       "    }\n",
       "\n",
       "    .dataframe thead th {\n",
       "        text-align: right;\n",
       "    }\n",
       "</style>\n",
       "<table border=\"1\" class=\"dataframe\">\n",
       "  <thead>\n",
       "    <tr style=\"text-align: right;\">\n",
       "      <th></th>\n",
       "      <th>App_Name</th>\n",
       "      <th>Category</th>\n",
       "      <th>Rating</th>\n",
       "      <th>Rating_Count</th>\n",
       "    </tr>\n",
       "  </thead>\n",
       "  <tbody>\n",
       "    <tr>\n",
       "      <th>845049</th>\n",
       "      <td>STUDiLMU: Your One-stop Solution Learning Partner</td>\n",
       "      <td>Education</td>\n",
       "      <td>5.0</td>\n",
       "      <td>42908.0</td>\n",
       "    </tr>\n",
       "    <tr>\n",
       "      <th>609994</th>\n",
       "      <td>Жәннат Фирдаус - Намаз, Құран оқуды үйрену</td>\n",
       "      <td>Education</td>\n",
       "      <td>5.0</td>\n",
       "      <td>18031.0</td>\n",
       "    </tr>\n",
       "    <tr>\n",
       "      <th>2134769</th>\n",
       "      <td>Last Bird Trip - Free Flappy Birdie Arcade Game</td>\n",
       "      <td>Arcade</td>\n",
       "      <td>5.0</td>\n",
       "      <td>12901.0</td>\n",
       "    </tr>\n",
       "    <tr>\n",
       "      <th>1479168</th>\n",
       "      <td>Hayalhanem</td>\n",
       "      <td>Education</td>\n",
       "      <td>5.0</td>\n",
       "      <td>11444.0</td>\n",
       "    </tr>\n",
       "    <tr>\n",
       "      <th>530856</th>\n",
       "      <td>21 Dias de Jejum (Jejum de Daniel)</td>\n",
       "      <td>Education</td>\n",
       "      <td>5.0</td>\n",
       "      <td>10990.0</td>\n",
       "    </tr>\n",
       "    <tr>\n",
       "      <th>...</th>\n",
       "      <td>...</td>\n",
       "      <td>...</td>\n",
       "      <td>...</td>\n",
       "      <td>...</td>\n",
       "    </tr>\n",
       "    <tr>\n",
       "      <th>1986318</th>\n",
       "      <td>HKDSE</td>\n",
       "      <td>Education</td>\n",
       "      <td>1.1</td>\n",
       "      <td>1164.0</td>\n",
       "    </tr>\n",
       "    <tr>\n",
       "      <th>748716</th>\n",
       "      <td>Qurio</td>\n",
       "      <td>Education</td>\n",
       "      <td>1.1</td>\n",
       "      <td>979.0</td>\n",
       "    </tr>\n",
       "    <tr>\n",
       "      <th>1978091</th>\n",
       "      <td>DragonFruit</td>\n",
       "      <td>Social</td>\n",
       "      <td>1.1</td>\n",
       "      <td>859.0</td>\n",
       "    </tr>\n",
       "    <tr>\n",
       "      <th>1594710</th>\n",
       "      <td>Open Shymkent</td>\n",
       "      <td>Social</td>\n",
       "      <td>1.1</td>\n",
       "      <td>537.0</td>\n",
       "    </tr>\n",
       "    <tr>\n",
       "      <th>836937</th>\n",
       "      <td>Jobventure</td>\n",
       "      <td>Puzzle</td>\n",
       "      <td>1.0</td>\n",
       "      <td>285.0</td>\n",
       "    </tr>\n",
       "  </tbody>\n",
       "</table>\n",
       "<p>81718 rows × 4 columns</p>\n",
       "</div>"
      ],
      "text/plain": [
       "                                                  App_Name   Category  Rating  \\\n",
       "845049   STUDiLMU: Your One-stop Solution Learning Partner  Education     5.0   \n",
       "609994          Жәннат Фирдаус - Намаз, Құран оқуды үйрену  Education     5.0   \n",
       "2134769    Last Bird Trip - Free Flappy Birdie Arcade Game     Arcade     5.0   \n",
       "1479168                                         Hayalhanem  Education     5.0   \n",
       "530856                  21 Dias de Jejum (Jejum de Daniel)  Education     5.0   \n",
       "...                                                    ...        ...     ...   \n",
       "1986318                                              HKDSE  Education     1.1   \n",
       "748716                                               Qurio  Education     1.1   \n",
       "1978091                                        DragonFruit     Social     1.1   \n",
       "1594710                                      Open Shymkent     Social     1.1   \n",
       "836937                                          Jobventure     Puzzle     1.0   \n",
       "\n",
       "         Rating_Count  \n",
       "845049        42908.0  \n",
       "609994        18031.0  \n",
       "2134769       12901.0  \n",
       "1479168       11444.0  \n",
       "530856        10990.0  \n",
       "...               ...  \n",
       "1986318        1164.0  \n",
       "748716          979.0  \n",
       "1978091         859.0  \n",
       "1594710         537.0  \n",
       "836937          285.0  \n",
       "\n",
       "[81718 rows x 4 columns]"
      ]
     },
     "execution_count": 211,
     "metadata": {},
     "output_type": "execute_result"
    }
   ],
   "source": [
    "df_ra.sort_values(['Rating', 'Rating_Count'], inplace = True, ascending = False)\n",
    "df_ra"
   ]
  },
  {
   "cell_type": "code",
   "execution_count": 212,
   "metadata": {},
   "outputs": [
    {
     "data": {
      "text/plain": [
       "{'Books & Reference': 'Babel Novel - Fantastic Books & Webnovel Reading',\n",
       " 'Music & Audio': 'Music Player - Audio Player',\n",
       " 'Personalization': 'HD Wallpapers (Offline)',\n",
       " 'Events': 'JanaSena News & Events',\n",
       " 'Word': 'Sözcük Gezmece',\n",
       " 'Puzzle': 'Jigsaw Kingdoms - puzzle game',\n",
       " 'Arcade': 'Last Bird Trip - Free Flappy Birdie Arcade Game',\n",
       " 'Education': 'STUDiLMU: Your One-stop Solution Learning Partner',\n",
       " 'Casino': 'Slots: Jackpot & Casino Slot free',\n",
       " 'Social': 'DJJS'}"
      ]
     },
     "execution_count": 212,
     "metadata": {},
     "output_type": "execute_result"
    }
   ],
   "source": [
    "rat_cats = {'Books & Reference': '', 'Music & Audio': '', 'Personalization': '', 'Events': '', 'Word': '', 'Puzzle': '', 'Arcade': '', 'Education': '', 'Casino': '', 'Social': ''}\n",
    "for x in rat_cats:\n",
    "    filtered = df_ra[df_ra['Category'] == x]\n",
    "    name = filtered.iloc[0]['App_Name']\n",
    "    rat_cats[x] = name\n",
    "\n",
    "rat_cats"
   ]
  },
  {
   "cell_type": "markdown",
   "metadata": {},
   "source": [
    "This answers our question."
   ]
  },
  {
   "cell_type": "markdown",
   "metadata": {},
   "source": [
    "Onto the next question: Do free apps or paid apps have a higher rating? (minimum of 100 ratings)"
   ]
  },
  {
   "cell_type": "markdown",
   "metadata": {},
   "source": [
    "Let's start by filtering out the necessary columns."
   ]
  },
  {
   "cell_type": "code",
   "execution_count": 213,
   "metadata": {},
   "outputs": [
    {
     "data": {
      "text/html": [
       "<div>\n",
       "<style scoped>\n",
       "    .dataframe tbody tr th:only-of-type {\n",
       "        vertical-align: middle;\n",
       "    }\n",
       "\n",
       "    .dataframe tbody tr th {\n",
       "        vertical-align: top;\n",
       "    }\n",
       "\n",
       "    .dataframe thead th {\n",
       "        text-align: right;\n",
       "    }\n",
       "</style>\n",
       "<table border=\"1\" class=\"dataframe\">\n",
       "  <thead>\n",
       "    <tr style=\"text-align: right;\">\n",
       "      <th></th>\n",
       "      <th>Rating</th>\n",
       "      <th>Free</th>\n",
       "      <th>Rating_Count</th>\n",
       "    </tr>\n",
       "  </thead>\n",
       "  <tbody>\n",
       "    <tr>\n",
       "      <th>9</th>\n",
       "      <td>4.7</td>\n",
       "      <td>True</td>\n",
       "      <td>820.0</td>\n",
       "    </tr>\n",
       "    <tr>\n",
       "      <th>12</th>\n",
       "      <td>3.9</td>\n",
       "      <td>True</td>\n",
       "      <td>118.0</td>\n",
       "    </tr>\n",
       "    <tr>\n",
       "      <th>14</th>\n",
       "      <td>3.7</td>\n",
       "      <td>True</td>\n",
       "      <td>1572.0</td>\n",
       "    </tr>\n",
       "    <tr>\n",
       "      <th>18</th>\n",
       "      <td>3.7</td>\n",
       "      <td>True</td>\n",
       "      <td>328.0</td>\n",
       "    </tr>\n",
       "    <tr>\n",
       "      <th>22</th>\n",
       "      <td>4.4</td>\n",
       "      <td>True</td>\n",
       "      <td>211.0</td>\n",
       "    </tr>\n",
       "    <tr>\n",
       "      <th>...</th>\n",
       "      <td>...</td>\n",
       "      <td>...</td>\n",
       "      <td>...</td>\n",
       "    </tr>\n",
       "    <tr>\n",
       "      <th>2312913</th>\n",
       "      <td>2.0</td>\n",
       "      <td>True</td>\n",
       "      <td>1687.0</td>\n",
       "    </tr>\n",
       "    <tr>\n",
       "      <th>2312931</th>\n",
       "      <td>2.8</td>\n",
       "      <td>True</td>\n",
       "      <td>1002.0</td>\n",
       "    </tr>\n",
       "    <tr>\n",
       "      <th>2312932</th>\n",
       "      <td>4.3</td>\n",
       "      <td>True</td>\n",
       "      <td>103466.0</td>\n",
       "    </tr>\n",
       "    <tr>\n",
       "      <th>2312933</th>\n",
       "      <td>4.0</td>\n",
       "      <td>True</td>\n",
       "      <td>344.0</td>\n",
       "    </tr>\n",
       "    <tr>\n",
       "      <th>2312939</th>\n",
       "      <td>4.3</td>\n",
       "      <td>True</td>\n",
       "      <td>16775.0</td>\n",
       "    </tr>\n",
       "  </tbody>\n",
       "</table>\n",
       "<p>400406 rows × 3 columns</p>\n",
       "</div>"
      ],
      "text/plain": [
       "         Rating  Free  Rating_Count\n",
       "9           4.7  True         820.0\n",
       "12          3.9  True         118.0\n",
       "14          3.7  True        1572.0\n",
       "18          3.7  True         328.0\n",
       "22          4.4  True         211.0\n",
       "...         ...   ...           ...\n",
       "2312913     2.0  True        1687.0\n",
       "2312931     2.8  True        1002.0\n",
       "2312932     4.3  True      103466.0\n",
       "2312933     4.0  True         344.0\n",
       "2312939     4.3  True       16775.0\n",
       "\n",
       "[400406 rows x 3 columns]"
      ]
     },
     "execution_count": 213,
     "metadata": {},
     "output_type": "execute_result"
    }
   ],
   "source": [
    "df_fp = df[['Rating', 'Free', 'Rating_Count']]\n",
    "df_fp = df_fp[df_fp.Rating_Count > 99]\n",
    "df_fp"
   ]
  },
  {
   "cell_type": "markdown",
   "metadata": {},
   "source": [
    "Now, we'll find the mean of the paid apps."
   ]
  },
  {
   "cell_type": "code",
   "execution_count": 214,
   "metadata": {},
   "outputs": [
    {
     "data": {
      "text/plain": [
       "4.162039811643837"
      ]
     },
     "execution_count": 214,
     "metadata": {},
     "output_type": "execute_result"
    }
   ],
   "source": [
    "p_mean = df_fp.loc[df_fp['Free'] == False, 'Rating'].mean()\n",
    "p_mean"
   ]
  },
  {
   "cell_type": "markdown",
   "metadata": {},
   "source": [
    "Now, for the free apps."
   ]
  },
  {
   "cell_type": "code",
   "execution_count": 215,
   "metadata": {},
   "outputs": [
    {
     "data": {
      "text/plain": [
       "4.024451365768088"
      ]
     },
     "execution_count": 215,
     "metadata": {},
     "output_type": "execute_result"
    }
   ],
   "source": [
    "f_mean = df_fp.loc[df_fp['Free'] == True, 'Rating'].mean()\n",
    "f_mean"
   ]
  },
  {
   "cell_type": "markdown",
   "metadata": {},
   "source": [
    "Let's visualize this."
   ]
  },
  {
   "cell_type": "code",
   "execution_count": 216,
   "metadata": {},
   "outputs": [
    {
     "data": {
      "image/png": "[encoded data removed]",
      "text/plain": [
       "<Figure size 640x480 with 1 Axes>"
      ]
     },
     "metadata": {},
     "output_type": "display_data"
    }
   ],
   "source": [
    "plt.bar(['Free', 'Paid'], [f_mean, p_mean])\n",
    "plt.ylabel('Rating out of 5.0')\n",
    "plt.show()"
   ]
  },
  {
   "cell_type": "markdown",
   "metadata": {},
   "source": [
    "This answers our question."
   ]
  },
  {
   "cell_type": "markdown",
   "metadata": {},
   "source": [
    "Let's move onto our last question. Do ad supported apps or non-ad supported apps have a higher rating? (minimum of 100 ratings.)"
   ]
  },
  {
   "cell_type": "markdown",
   "metadata": {},
   "source": [
    "Start out by filtering the necessary columns."
   ]
  },
  {
   "cell_type": "code",
   "execution_count": 217,
   "metadata": {},
   "outputs": [
    {
     "data": {
      "text/html": [
       "<div>\n",
       "<style scoped>\n",
       "    .dataframe tbody tr th:only-of-type {\n",
       "        vertical-align: middle;\n",
       "    }\n",
       "\n",
       "    .dataframe tbody tr th {\n",
       "        vertical-align: top;\n",
       "    }\n",
       "\n",
       "    .dataframe thead th {\n",
       "        text-align: right;\n",
       "    }\n",
       "</style>\n",
       "<table border=\"1\" class=\"dataframe\">\n",
       "  <thead>\n",
       "    <tr style=\"text-align: right;\">\n",
       "      <th></th>\n",
       "      <th>Rating</th>\n",
       "      <th>Rating_Count</th>\n",
       "      <th>Ad_Supported</th>\n",
       "    </tr>\n",
       "  </thead>\n",
       "  <tbody>\n",
       "    <tr>\n",
       "      <th>9</th>\n",
       "      <td>4.7</td>\n",
       "      <td>820.0</td>\n",
       "      <td>True</td>\n",
       "    </tr>\n",
       "    <tr>\n",
       "      <th>12</th>\n",
       "      <td>3.9</td>\n",
       "      <td>118.0</td>\n",
       "      <td>True</td>\n",
       "    </tr>\n",
       "    <tr>\n",
       "      <th>14</th>\n",
       "      <td>3.7</td>\n",
       "      <td>1572.0</td>\n",
       "      <td>False</td>\n",
       "    </tr>\n",
       "    <tr>\n",
       "      <th>18</th>\n",
       "      <td>3.7</td>\n",
       "      <td>328.0</td>\n",
       "      <td>False</td>\n",
       "    </tr>\n",
       "    <tr>\n",
       "      <th>22</th>\n",
       "      <td>4.4</td>\n",
       "      <td>211.0</td>\n",
       "      <td>True</td>\n",
       "    </tr>\n",
       "    <tr>\n",
       "      <th>...</th>\n",
       "      <td>...</td>\n",
       "      <td>...</td>\n",
       "      <td>...</td>\n",
       "    </tr>\n",
       "    <tr>\n",
       "      <th>2312913</th>\n",
       "      <td>2.0</td>\n",
       "      <td>1687.0</td>\n",
       "      <td>False</td>\n",
       "    </tr>\n",
       "    <tr>\n",
       "      <th>2312931</th>\n",
       "      <td>2.8</td>\n",
       "      <td>1002.0</td>\n",
       "      <td>True</td>\n",
       "    </tr>\n",
       "    <tr>\n",
       "      <th>2312932</th>\n",
       "      <td>4.3</td>\n",
       "      <td>103466.0</td>\n",
       "      <td>True</td>\n",
       "    </tr>\n",
       "    <tr>\n",
       "      <th>2312933</th>\n",
       "      <td>4.0</td>\n",
       "      <td>344.0</td>\n",
       "      <td>False</td>\n",
       "    </tr>\n",
       "    <tr>\n",
       "      <th>2312939</th>\n",
       "      <td>4.3</td>\n",
       "      <td>16775.0</td>\n",
       "      <td>False</td>\n",
       "    </tr>\n",
       "  </tbody>\n",
       "</table>\n",
       "<p>400406 rows × 3 columns</p>\n",
       "</div>"
      ],
      "text/plain": [
       "         Rating  Rating_Count  Ad_Supported\n",
       "9           4.7         820.0          True\n",
       "12          3.9         118.0          True\n",
       "14          3.7        1572.0         False\n",
       "18          3.7         328.0         False\n",
       "22          4.4         211.0          True\n",
       "...         ...           ...           ...\n",
       "2312913     2.0        1687.0         False\n",
       "2312931     2.8        1002.0          True\n",
       "2312932     4.3      103466.0          True\n",
       "2312933     4.0         344.0         False\n",
       "2312939     4.3       16775.0         False\n",
       "\n",
       "[400406 rows x 3 columns]"
      ]
     },
     "execution_count": 217,
     "metadata": {},
     "output_type": "execute_result"
    }
   ],
   "source": [
    "df_ans = df[['Rating', 'Rating_Count', 'Ad_Supported']]\n",
    "df_ans = df_ans[df_ans.Rating_Count > 99]\n",
    "df_ans"
   ]
  },
  {
   "cell_type": "markdown",
   "metadata": {},
   "source": [
    "Now, let's calculate the mean for ad-supported apps."
   ]
  },
  {
   "cell_type": "code",
   "execution_count": 218,
   "metadata": {},
   "outputs": [
    {
     "data": {
      "text/plain": [
       "4.088349459670337"
      ]
     },
     "execution_count": 218,
     "metadata": {},
     "output_type": "execute_result"
    }
   ],
   "source": [
    "as_mean = df_ans.loc[df_ans['Ad_Supported'] == True, 'Rating'].mean()\n",
    "as_mean"
   ]
  },
  {
   "cell_type": "markdown",
   "metadata": {},
   "source": [
    "Now, the mean for non ad-supported apps."
   ]
  },
  {
   "cell_type": "code",
   "execution_count": 219,
   "metadata": {},
   "outputs": [
    {
     "data": {
      "text/plain": [
       "3.908492653861811"
      ]
     },
     "execution_count": 219,
     "metadata": {},
     "output_type": "execute_result"
    }
   ],
   "source": [
    "nas_mean = df_ans.loc[df_ans['Ad_Supported'] == False, 'Rating'].mean()\n",
    "nas_mean"
   ]
  },
  {
   "cell_type": "markdown",
   "metadata": {},
   "source": [
    "Let's plot this."
   ]
  },
  {
   "cell_type": "code",
   "execution_count": 220,
   "metadata": {},
   "outputs": [
    {
     "data": {
      "image/png": "[encoded data removed]",
      "text/plain": [
       "<Figure size 640x480 with 1 Axes>"
      ]
     },
     "metadata": {},
     "output_type": "display_data"
    }
   ],
   "source": [
    "plt.bar(['Ad-Supported', 'Non Ad-Supported'], [as_mean, nas_mean])\n",
    "plt.ylabel('Rating out of 5.0')\n",
    "plt.show()"
   ]
  },
  {
   "cell_type": "markdown",
   "metadata": {},
   "source": [
    "It looks like the ad-supported apps have a higher rating than the non ad-supported apps."
   ]
  },
  {
   "cell_type": "markdown",
   "metadata": {},
   "source": [
    "This answers our final question."
   ]
  },
  {
   "cell_type": "markdown",
   "metadata": {},
   "source": [
    "## Answer Questions"
   ]
  },
  {
   "cell_type": "markdown",
   "metadata": {},
   "source": [
    "### What are the top 10 categories in terms of downloads?<br>\n",
    "1. Tools<br>\n",
    "2. Communication<br>\n",
    "3. Productivity<br>\n",
    "4. Entertainment<br>\n",
    "5. Social<br>\n",
    "6. Video Players & Editors<br>\n",
    "7. Photography<br>\n",
    "8. Action<br>\n",
    "9. Casual<br>\n",
    "10. Arcade<br>"
   ]
  },
  {
   "cell_type": "markdown",
   "metadata": {},
   "source": [
    "### What are the top downloaded apps in each of these categories?<br>\n",
    "<li>Tools: Google</li>\n",
    "<li>Communication: Google Chrome: Fast & Secure</li>\n",
    "<li>Productivity: Google Drive</li>\n",
    "<li>Entertainment: Google Play Games</li>\n",
    "<li>Social: Facebook</li>\n",
    "<li>Video Players & Editors: YouTube</li>\n",
    "<li>Photography: Google Photos</li>\n",
    "<li>Action: Garena Free Fire - Rampage</li>\n",
    "<li>Casual: Candy Crush Saga</li>\n",
    "<li>Arcade: Subway Surfers</li>"
   ]
  },
  {
   "cell_type": "markdown",
   "metadata": {},
   "source": [
    "### What are the top 10 categories in terms of ratings? (minimum of 10 ratings, rounded to 3 decimal places)<br>\n",
    "1. Books & Reference: 4.305 stars\n",
    "2. Music & Audio: 4.297 stars\n",
    "3. Personalization: 4.255 stars\n",
    "4. Events: 4.237 stars\n",
    "5. Word: 4.217 stars\n",
    "6. Puzzle: 4.205 stars\n",
    "7. Arcade: 4.203 stars\n",
    "8. Education: 4.189 stars\n",
    "9. Casino: 4.146 stars\n",
    "10. Social: 4.144 stars"
   ]
  },
  {
   "cell_type": "markdown",
   "metadata": {},
   "source": [
    "### What are the top 10 apps, by rating in each of these categories? (minimum of 250 ratings)\n",
    "<li>Books & Reference: Babel Novel - Fantastic Books & Webnovel Reading</li>\n",
    "<li>Music & Audio: Music Player - Audio Player</li>\n",
    "<li>Personalization: HD Wallpapers (Offline)</li>\n",
    "<li>Events: JanaSena News & Events</li>\n",
    "<li>Word: Sözcük Gezmece</li>\n",
    "<li>Puzzle: Jigsaw Kingdoms - puzzle game</li>\n",
    "<li>Arcade: Last Bird Trip - Free Flappy Birdie Arcade Game</li>\n",
    "<li>Education: STUDiLMU: Your One-stop Solution Learning Partner</li>\n",
    "<li>Casino: Slots: Jackpot & Casino Slot free</li>\n",
    "<li>Social: DJJS</li>"
   ]
  },
  {
   "cell_type": "markdown",
   "metadata": {},
   "source": [
    "### Do free apps or paid apps have a higher rating? (minimum of 100 ratings)\n",
    "Paid apps have a higher rating. Paid apps have an average of 4.162 stars, while free apps have an average of 4.024 stars. Ratings are rounded to 3 decimal places."
   ]
  },
  {
   "cell_type": "markdown",
   "metadata": {},
   "source": [
    "### Do ad supported apps or non-ad supported apps have a higher rating? (minimum of 100 ratings.)"
   ]
  },
  {
   "cell_type": "markdown",
   "metadata": {},
   "source": [
    "Ad-supported apps have a higher rating than non ad-supported apps. Ad-supported apps have an average of 4.088 stars. Non ad-supported apps have an average of 3.908 stars. Ratings are rounded to 3 decimals places."
   ]
  },
  {
   "cell_type": "markdown",
   "metadata": {},
   "source": [
    "## Summary and Conclusion"
   ]
  },
  {
   "cell_type": "markdown",
   "metadata": {},
   "source": [
    "People seem to download Tools, Communication and Productivity apps more than any other apps, as these are the top 3 categories in terms of downloads. It is possible that this is skewed or biased because of apps like Google, which comes preloaded on every Android device. This is shown by our analysis of the top downloaded apps in the top 10 categories. The top apps in 6 of the categories are Google apps. <br>\n",
    "\n",
    "I think our analysis of the top categories by ratings gives us a clearer picture of what apps are favored more by consumers. This is because people choose to leave ratings, which reflects the opinion of the public more. It is also better because there is a range of 0.0 through 5.0 to base our analysis on, while the install count is just a single count of installs. Books & Reference is the top category based on this metric.<br>\n",
    "\n",
    "The next part of our analysis involved determining whether free or paid apps had a higher rating. The analysis showed that paid apps have a higher rating on average. This may be because that in order to justify charging money for an app, the app has to be high-quality enough for a customer to want to buy it.<br>\n",
    "\n",
    "The final part of our analysis determined that ad-supported apps have a higher rating than non ad-supported apps. This could be for the same reason that paid apps are rated higher than free apps. The ad-supported apps may be higher quality, but instead of charging money for apps, developers will implement ads and list the applciation in the store for free."
   ]
  }
 ],
 "metadata": {
  "kernelspec": {
   "display_name": "Python 3.10.2 64-bit",
   "language": "python",
   "name": "python3"
  },
  "language_info": {
   "codemirror_mode": {
    "name": "ipython",
    "version": 3
   },
   "file_extension": ".py",
   "mimetype": "text/x-python",
   "name": "python",
   "nbconvert_exporter": "python",
   "pygments_lexer": "ipython3",
   "version": "3.10.2"
  },
  "orig_nbformat": 4,
  "vscode": {
   "interpreter": {
    "hash": "356ad63b4e38c08dbf7865a05f06a661c754c1df253e932a1d67be08e78f9ff1"
   }
  }
 },
 "nbformat": 4,
 "nbformat_minor": 2
}
